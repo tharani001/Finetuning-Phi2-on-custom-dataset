{
 "cells": [
  {
   "cell_type": "markdown",
   "id": "99080647",
   "metadata": {},
   "source": [
    "### `Finetune LLM to generate response on Amazon product description and Product name based on custom dataset`"
   ]
  },
  {
   "cell_type": "code",
   "execution_count": 2,
   "id": "8b68bf7e",
   "metadata": {},
   "outputs": [
    {
     "data": {
      "application/vnd.microsoft.datawrangler.viewer.v0+json": {
       "columns": [
        {
         "name": "index",
         "rawType": "int64",
         "type": "integer"
        },
        {
         "name": "product_name",
         "rawType": "object",
         "type": "string"
        },
        {
         "name": "category",
         "rawType": "object",
         "type": "string"
        },
        {
         "name": "about_product",
         "rawType": "object",
         "type": "string"
        }
       ],
       "ref": "dba19716-1002-43d2-aa65-193a8b1fd24b",
       "rows": [
        [
         "0",
         "Wayona Nylon Braided USB to Lightning Fast Charging and Data Sync Cable Compatible for iPhone 13, 12,11, X, 8, 7, 6, 5, iPad Air, Pro, Mini (3 FT Pack of 1, Grey)",
         "Computers&Accessories|Accessories&Peripherals|Cables&Accessories|Cables|USBCables",
         "High Compatibility : Compatible With iPhone 12, 11, X/XsMax/Xr ,iPhone 8/8 Plus,iPhone 7/7 Plus,iPhone 6s/6s Plus,iPhone 6/6 Plus,iPhone 5/5s/5c/se,iPad Pro,iPad Air 1/2,iPad mini 1/2/3,iPod nano7,iPod touch and more apple devices.|Fast Charge&Data Sync : It can charge and sync simultaneously at a rapid speed, Compatible with any charging adaptor, multi-port charging station or power bank.|Durability : Durable nylon braided design with premium aluminum housing and toughened nylon fiber wound tightly around the cord lending it superior durability and adding a bit to its flexibility.|High Security Level : It is designed to fully protect your device from damaging excessive current.Copper core thick+Multilayer shielding, Anti-interference, Protective circuit equipment.|WARRANTY: 12 months warranty and friendly customer services, ensures the long-time enjoyment of your purchase. If you meet any question or problem, please don't hesitate to contact us."
        ],
        [
         "1",
         "Ambrane Unbreakable 60W / 3A Fast Charging 1.5m Braided Type C Cable for Smartphones, Tablets, Laptops & other Type C devices, PD Technology, 480Mbps Data Sync, Quick Charge 3.0 (RCT15A, Black)",
         "Computers&Accessories|Accessories&Peripherals|Cables&Accessories|Cables|USBCables",
         "Compatible with all Type C enabled devices, be it an android smartphone (Mi, Samsung, Oppo, Vivo, Realme, OnePlus, etc), tablet, laptop (Macbook, Chromebook, etc)|Supports Quick Charging (2.0/3.0)|Unbreakable – Made of special braided outer with rugged interior bindings, it is ultra-durable cable that won’t be affected by daily rough usage|Ideal Length – It has ideal length of 1.5 meters which is neither too short like your typical 1meter cable or too long like a 2meters cable|Supports maximum 3A fast charging and 480 Mbps data transfer speed|6 months manufacturer warranty from the date of purchase"
        ],
        [
         "2",
         "Sounce Fast Phone Charging Cable & Data Sync USB Cable Compatible for iPhone 13, 12,11, X, 8, 7, 6, 5, iPad Air, Pro, Mini & iOS Devices",
         "Computers&Accessories|Accessories&Peripherals|Cables&Accessories|Cables|USBCables",
         "【 Fast Charger& Data Sync】-With built-in safety proctections and four-core copper wires promote maximum signal quality and strength and enhance charging & data transfer speed with up to 480 mb/s transferring speed.|【 Compatibility】-Compatible with iPhone 13, 12,11, X, 8, 7, 6, 5, iPad Air, Pro, Mini & iOS devices.|【 Sturdy & Durable】-The jacket and enforced connector made of TPE and premium copper, are resistant to repeatedly bending and coiling.|【 Ultra High Quality】: According to the experimental results, the fishbone design can accept at least 20,000 bending and insertion tests for extra protection and durability. Upgraded 3D aluminum connector and exclusive laser welding technology, which to ensure the metal part won't break and also have a tighter connection which fits well even with a protective case on and will never loose connection.|【 Good After Sales Service】-Our friendly and reliable customer service will respond to you within 24 hours ! you can purchase with confidence,and every sale includes a 365-day worry-free Service to prove the importance we set on quality."
        ],
        [
         "3",
         "boAt Deuce USB 300 2 in 1 Type-C & Micro USB Stress Resistant, Tangle-Free, Sturdy Cable with 3A Fast Charging & 480mbps Data Transmission, 10000+ Bends Lifespan and Extended 1.5m Length(Martian Red)",
         "Computers&Accessories|Accessories&Peripherals|Cables&Accessories|Cables|USBCables",
         "The boAt Deuce USB 300 2 in 1 cable is compatible with smartphones, tablets, PC peripherals, Bluetooth speakers, power banks and all other devices with Type-C as well as Micro USB port|It ensures 3A fast charging and data transmissions with rapid sync at 480 mbps|The premium Nylon braided skin makes it sturdy and invincible against external damage|Its Aluminium alloy shell housing makes it last longer with 10000+ Bends Lifespan with extended frame protection for strain relief|The resilient and flexible design offers a tangle free experience seamlessly|Deuce USB 300 cable offers a perfect 1.5 meters in length for smooth & hassle-free user experience|2 years warranty from the date of purchase"
        ],
        [
         "4",
         "Portronics Konnect L 1.2M Fast Charging 3A 8 Pin USB Cable with Charge & Sync Function for iPhone, iPad (Grey)",
         "Computers&Accessories|Accessories&Peripherals|Cables&Accessories|Cables|USBCables",
         "[CHARGE & SYNC FUNCTION]- This cable comes with charging & Data sync function|[HIGH QUALITY MATERIAL]- TPE + Nylon Material to make sure that the life of the cable is enhanced significantly|[LONG CORD]- The Cable is extra thick 1.2 meter long, optimized for an easy use for your comfort at home or office|[MORE DURABLE]-This cable is unique interms of design and multi-use and is positioned to provide the best comfort and performance while using|[UNIVERSAL COMPATIBILITY]- Compatible with all devices like iPhone XS, X, XR, 8, 7, 6S, 6, 5S, iPad Pro, iPad mini and iPad Air"
        ]
       ],
       "shape": {
        "columns": 3,
        "rows": 5
       }
      },
      "text/html": [
       "<div>\n",
       "<style scoped>\n",
       "    .dataframe tbody tr th:only-of-type {\n",
       "        vertical-align: middle;\n",
       "    }\n",
       "\n",
       "    .dataframe tbody tr th {\n",
       "        vertical-align: top;\n",
       "    }\n",
       "\n",
       "    .dataframe thead th {\n",
       "        text-align: right;\n",
       "    }\n",
       "</style>\n",
       "<table border=\"1\" class=\"dataframe\">\n",
       "  <thead>\n",
       "    <tr style=\"text-align: right;\">\n",
       "      <th></th>\n",
       "      <th>product_name</th>\n",
       "      <th>category</th>\n",
       "      <th>about_product</th>\n",
       "    </tr>\n",
       "  </thead>\n",
       "  <tbody>\n",
       "    <tr>\n",
       "      <th>0</th>\n",
       "      <td>Wayona Nylon Braided USB to Lightning Fast Cha...</td>\n",
       "      <td>Computers&amp;Accessories|Accessories&amp;Peripherals|...</td>\n",
       "      <td>High Compatibility : Compatible With iPhone 12...</td>\n",
       "    </tr>\n",
       "    <tr>\n",
       "      <th>1</th>\n",
       "      <td>Ambrane Unbreakable 60W / 3A Fast Charging 1.5...</td>\n",
       "      <td>Computers&amp;Accessories|Accessories&amp;Peripherals|...</td>\n",
       "      <td>Compatible with all Type C enabled devices, be...</td>\n",
       "    </tr>\n",
       "    <tr>\n",
       "      <th>2</th>\n",
       "      <td>Sounce Fast Phone Charging Cable &amp; Data Sync U...</td>\n",
       "      <td>Computers&amp;Accessories|Accessories&amp;Peripherals|...</td>\n",
       "      <td>【 Fast Charger&amp; Data Sync】-With built-in safet...</td>\n",
       "    </tr>\n",
       "    <tr>\n",
       "      <th>3</th>\n",
       "      <td>boAt Deuce USB 300 2 in 1 Type-C &amp; Micro USB S...</td>\n",
       "      <td>Computers&amp;Accessories|Accessories&amp;Peripherals|...</td>\n",
       "      <td>The boAt Deuce USB 300 2 in 1 cable is compati...</td>\n",
       "    </tr>\n",
       "    <tr>\n",
       "      <th>4</th>\n",
       "      <td>Portronics Konnect L 1.2M Fast Charging 3A 8 P...</td>\n",
       "      <td>Computers&amp;Accessories|Accessories&amp;Peripherals|...</td>\n",
       "      <td>[CHARGE &amp; SYNC FUNCTION]- This cable comes wit...</td>\n",
       "    </tr>\n",
       "  </tbody>\n",
       "</table>\n",
       "</div>"
      ],
      "text/plain": [
       "                                        product_name  \\\n",
       "0  Wayona Nylon Braided USB to Lightning Fast Cha...   \n",
       "1  Ambrane Unbreakable 60W / 3A Fast Charging 1.5...   \n",
       "2  Sounce Fast Phone Charging Cable & Data Sync U...   \n",
       "3  boAt Deuce USB 300 2 in 1 Type-C & Micro USB S...   \n",
       "4  Portronics Konnect L 1.2M Fast Charging 3A 8 P...   \n",
       "\n",
       "                                            category  \\\n",
       "0  Computers&Accessories|Accessories&Peripherals|...   \n",
       "1  Computers&Accessories|Accessories&Peripherals|...   \n",
       "2  Computers&Accessories|Accessories&Peripherals|...   \n",
       "3  Computers&Accessories|Accessories&Peripherals|...   \n",
       "4  Computers&Accessories|Accessories&Peripherals|...   \n",
       "\n",
       "                                       about_product  \n",
       "0  High Compatibility : Compatible With iPhone 12...  \n",
       "1  Compatible with all Type C enabled devices, be...  \n",
       "2  【 Fast Charger& Data Sync】-With built-in safet...  \n",
       "3  The boAt Deuce USB 300 2 in 1 cable is compati...  \n",
       "4  [CHARGE & SYNC FUNCTION]- This cable comes wit...  "
      ]
     },
     "execution_count": 2,
     "metadata": {},
     "output_type": "execute_result"
    }
   ],
   "source": [
    "import pandas as pd\n",
    "from datasets import load_dataset, Dataset, DatasetDict\n",
    "import warnings\n",
    "warnings.filterwarnings(\"ignore\")\n",
    "\n",
    "data = pd.read_csv(r\"C:\\Desktop\\LLM Finetuning\\Dataset\\amazon_product_details.csv\", usecols=['category', 'about_product', 'product_name'])\n",
    "data.head()"
   ]
  },
  {
   "cell_type": "code",
   "execution_count": 3,
   "id": "08c0b958",
   "metadata": {},
   "outputs": [],
   "source": [
    "data['category'] = data['category'].apply(lambda x: x.split('|')[-1])"
   ]
  },
  {
   "cell_type": "code",
   "execution_count": 4,
   "id": "096dd7a4",
   "metadata": {},
   "outputs": [
    {
     "data": {
      "application/vnd.microsoft.datawrangler.viewer.v0+json": {
       "columns": [
        {
         "name": "index",
         "rawType": "int64",
         "type": "integer"
        },
        {
         "name": "product_name",
         "rawType": "object",
         "type": "string"
        },
        {
         "name": "category",
         "rawType": "object",
         "type": "string"
        },
        {
         "name": "about_product",
         "rawType": "object",
         "type": "string"
        }
       ],
       "ref": "9100d817-f6fa-4d13-a9f6-e492e77feda1",
       "rows": [
        [
         "0",
         "Wayona Nylon Braided USB to Lightning Fast Charging and Data Sync Cable Compatible for iPhone 13, 12,11, X, 8, 7, 6, 5, iPad Air, Pro, Mini (3 FT Pack of 1, Grey)",
         "USBCables",
         "High Compatibility : Compatible With iPhone 12, 11, X/XsMax/Xr ,iPhone 8/8 Plus,iPhone 7/7 Plus,iPhone 6s/6s Plus,iPhone 6/6 Plus,iPhone 5/5s/5c/se,iPad Pro,iPad Air 1/2,iPad mini 1/2/3,iPod nano7,iPod touch and more apple devices.|Fast Charge&Data Sync : It can charge and sync simultaneously at a rapid speed, Compatible with any charging adaptor, multi-port charging station or power bank.|Durability : Durable nylon braided design with premium aluminum housing and toughened nylon fiber wound tightly around the cord lending it superior durability and adding a bit to its flexibility.|High Security Level : It is designed to fully protect your device from damaging excessive current.Copper core thick+Multilayer shielding, Anti-interference, Protective circuit equipment.|WARRANTY: 12 months warranty and friendly customer services, ensures the long-time enjoyment of your purchase. If you meet any question or problem, please don't hesitate to contact us."
        ],
        [
         "1",
         "Ambrane Unbreakable 60W / 3A Fast Charging 1.5m Braided Type C Cable for Smartphones, Tablets, Laptops & other Type C devices, PD Technology, 480Mbps Data Sync, Quick Charge 3.0 (RCT15A, Black)",
         "USBCables",
         "Compatible with all Type C enabled devices, be it an android smartphone (Mi, Samsung, Oppo, Vivo, Realme, OnePlus, etc), tablet, laptop (Macbook, Chromebook, etc)|Supports Quick Charging (2.0/3.0)|Unbreakable – Made of special braided outer with rugged interior bindings, it is ultra-durable cable that won’t be affected by daily rough usage|Ideal Length – It has ideal length of 1.5 meters which is neither too short like your typical 1meter cable or too long like a 2meters cable|Supports maximum 3A fast charging and 480 Mbps data transfer speed|6 months manufacturer warranty from the date of purchase"
        ],
        [
         "2",
         "Sounce Fast Phone Charging Cable & Data Sync USB Cable Compatible for iPhone 13, 12,11, X, 8, 7, 6, 5, iPad Air, Pro, Mini & iOS Devices",
         "USBCables",
         "【 Fast Charger& Data Sync】-With built-in safety proctections and four-core copper wires promote maximum signal quality and strength and enhance charging & data transfer speed with up to 480 mb/s transferring speed.|【 Compatibility】-Compatible with iPhone 13, 12,11, X, 8, 7, 6, 5, iPad Air, Pro, Mini & iOS devices.|【 Sturdy & Durable】-The jacket and enforced connector made of TPE and premium copper, are resistant to repeatedly bending and coiling.|【 Ultra High Quality】: According to the experimental results, the fishbone design can accept at least 20,000 bending and insertion tests for extra protection and durability. Upgraded 3D aluminum connector and exclusive laser welding technology, which to ensure the metal part won't break and also have a tighter connection which fits well even with a protective case on and will never loose connection.|【 Good After Sales Service】-Our friendly and reliable customer service will respond to you within 24 hours ! you can purchase with confidence,and every sale includes a 365-day worry-free Service to prove the importance we set on quality."
        ],
        [
         "3",
         "boAt Deuce USB 300 2 in 1 Type-C & Micro USB Stress Resistant, Tangle-Free, Sturdy Cable with 3A Fast Charging & 480mbps Data Transmission, 10000+ Bends Lifespan and Extended 1.5m Length(Martian Red)",
         "USBCables",
         "The boAt Deuce USB 300 2 in 1 cable is compatible with smartphones, tablets, PC peripherals, Bluetooth speakers, power banks and all other devices with Type-C as well as Micro USB port|It ensures 3A fast charging and data transmissions with rapid sync at 480 mbps|The premium Nylon braided skin makes it sturdy and invincible against external damage|Its Aluminium alloy shell housing makes it last longer with 10000+ Bends Lifespan with extended frame protection for strain relief|The resilient and flexible design offers a tangle free experience seamlessly|Deuce USB 300 cable offers a perfect 1.5 meters in length for smooth & hassle-free user experience|2 years warranty from the date of purchase"
        ],
        [
         "4",
         "Portronics Konnect L 1.2M Fast Charging 3A 8 Pin USB Cable with Charge & Sync Function for iPhone, iPad (Grey)",
         "USBCables",
         "[CHARGE & SYNC FUNCTION]- This cable comes with charging & Data sync function|[HIGH QUALITY MATERIAL]- TPE + Nylon Material to make sure that the life of the cable is enhanced significantly|[LONG CORD]- The Cable is extra thick 1.2 meter long, optimized for an easy use for your comfort at home or office|[MORE DURABLE]-This cable is unique interms of design and multi-use and is positioned to provide the best comfort and performance while using|[UNIVERSAL COMPATIBILITY]- Compatible with all devices like iPhone XS, X, XR, 8, 7, 6S, 6, 5S, iPad Pro, iPad mini and iPad Air"
        ],
        [
         "5",
         "pTron Solero TB301 3A Type-C Data and Fast Charging Cable, Made in India, 480Mbps Data Sync, Strong and Durable 1.5-Meter Nylon Braided USB Cable for Type-C Devices for Charging Adapter (Black)",
         "USBCables",
         "Fast Charging & Data Sync: Solero TB301 Type-C cable supports fast charge up to 5V/3A for devices and data syncing speed up to 480Mbps.|Universal Compatibility: This USB charging cable connects USB Type-C devices with standard USB devices like laptops, hard drives, power banks, wall and car chargers, etc..Connector One: Reversible Type C|Connector Two: USB A Type|Rough & Tough Type-C Cable: Charging cable with a double-braided exterior, premium aramid fiber core and metal plugs. It has passed 10,000 bending tests and can easily withstand daily use.|Extended Length: 1.5-meter long c-type cable uses nylon material to protect the wire and avoid knots.|Perfect Fit Connectors: pTron Soler USB-C has passed the 5KG load test, swing test, 5000+ times connect & disconnect to ensure that there are no loose connections."
        ],
        [
         "6",
         "boAt Micro USB 55 Tangle-free, Sturdy Micro USB Cable with 3A Fast Charging & 480mbps Data Transmission (Black)",
         "USBCables",
         "It Ensures High Speed Transmission And Charging By Offering 3A Fast Charging And Data Transmissions With Rapid Sync At 480 Mbps|The Braided Skin Makes It Durable And Invincible Against External Damage So You Can Have An Absolute Hassle-Free & Tangle Free Experience|Its Durable Pvc Housing And The Flexible Design Makes It Last 6 Times Longer Than Other Cables|Usb Cable Offers A Perfect 1.5 Meters In Length For Smooth & Hassle-Free User Experience For Superior Charging & Data Transfer Tasks|The Compact And Smooth Aluminium Connector Fits Most Cases Seamlessly And Resists Corrosion For Signal Purity|Micro Usb 55 Cable Offers Universal Compatibility As It Is Compatible With Most Android Smartphones, Tablets, Pc Peripherals, Bluetooth Speakers, Power Banks, Game Consoles & All Micro-Usb Enabled Devices|2 years warranty from the date of purchase"
        ],
        [
         "7",
         "MI Usb Type-C Cable Smartphone (Black)",
         "USBCables",
         "1m long Type-C USB Cable|Sturdy and Durable. With USB cable you can transfer data with speeds of upto 480 Mbps|Upto 3A output|6months warranty|Sturdy and Durable. With USB cable you can transfer data with speeds of upto 480 Mbps|6months warranty|Up To 3A Output"
        ],
        [
         "8",
         "TP-Link USB WiFi Adapter for PC(TL-WN725N), N150 Wireless Network Adapter for Desktop - Nano Size WiFi Dongle Compatible with Windows 11/10/7/8/8.1/XP/ Mac OS 10.9-10.15 Linux Kernel 2.6.18-4.4.3",
         "WirelessUSBAdapters",
         "USB WiFi Adapter —— Speedy wireless transmission at up to 150Mbps ideal for video streaming or internet calls|Mini Design —— Sleek miniature design so small that once plugged in, can be left in a Laptop’s USB port|Advanced Security —— Supports 64/128 WEP, WPA, PA2/WPA-PSK/WPA2-PSK(TKIP/AES)|Compatibility —— Windows 11/10/8.1/8/7/XP, Mac OS 10.15 and earlier, Linux|Easy Setup —— Connect in no time with easy setup utility in 14 languages|In an unlikely case of product quality related issue, we may ask you to reach out to brand’s customer service support and seek resolution. We will require brand proof of issue to process replacement request"
        ],
        [
         "9",
         "Ambrane Unbreakable 60W / 3A Fast Charging 1.5m Braided Micro USB Cable for Smartphones, Tablets, Laptops & Other Micro USB Devices, 480Mbps Data Sync, Quick Charge 3.0 (RCM15, Black)",
         "USBCables",
         "Universal Compatibility – It is compatible with all Micro USB enabled devices, be it an android smartphone, tablet, PC peripheral or any other micro USB compatible device|Unbreakable – Made of special braided outer with rugged interior bindings, it is ultra-durable cable that won’t be affected by daily rough usage|Ideal Length – It has ideal length of 1.5 meters which is neither too short like your typical 1meter cable or too long like a 2meters cable|Supports maximum 3A fast charging and 480 Mbps data transfer speed|6 Months manufacturer warranty from the date of purchase."
        ],
        [
         "10",
         "Portronics Konnect L POR-1081 Fast Charging 3A Type-C Cable 1.2Meter with Charge & Sync Function for All Type-C Devices (Grey)",
         "USBCables",
         "[CHARGE & SYNC FUNCTION]- This cable comes with charging & Data sync function for smartphones|[HIGH QUALITY MATERIAL]- TPE + Nylon Material to make sure that the life of the cable is enhanced significantly|[LONG CORD]- The Cable is extra thick 1.2 meter long, optimized for an easy use for your comfort at home or office|[MORE DURABLE]-This cable is unique interms of design and multi-use and is positioned to provide the best comfort and performance while using"
        ],
        [
         "11",
         "boAt Rugged v3 Extra Tough Unbreakable Braided Micro USB Cable 1.5 Meter (Black)",
         "USBCables",
         "The boAt rugged cable features our special toughest polyethylene braided jacket and this unique jacket provides greater protection than anything else you have seen in its class. Round Cable|Extra tough polyethylene terephthalate cable skin ensures 10000 plus bend lifespan, stress and stretch resistance|The boAt rugged Micro USB cable is compatible with most android smartphones, windows phone, tablets, PC peripherals and other micro USB compatible devices|2.4A rapid charge, fast data transmission and rapid speed to sync your device at the speed up to 480mbps|boAt rugged micro USB cable offers a perfect 1.5 meters in length, optimized for an easy use for your comfort at home or office|2 years warranty from the date of purchase"
        ],
        [
         "12",
         "AmazonBasics Flexible Premium HDMI Cable (Black, 4K@60Hz, 18Gbps), 3-Foot",
         "HDMICables",
         "Flexible, lightweight HDMI cable for connecting media devices to playback display such as HDTVs, projectors, and more|Compatible with Blu-Ray players, computers, Apple TV, Roku, cable, PS4, Xbox One, and other HDMI-compatible devices|Solid copper conductors and full metal jacket shielding for durability and high-performance connectivity|Supports Ethernet, 3D, 4K video and Audio Return Channel (ARC) and meets the latest HDMI standards|Supports bandwidth up to 18Gbps and is backwards compatible with earlier versions|Includes a 3 foot cable"
        ],
        [
         "13",
         "Portronics Konnect CL 20W POR-1067 Type-C to 8 Pin USB 1.2M Cable with Power Delivery & 3A Quick Charge Support, Nylon Braided for All Type-C and 8 Pin Devices, Green",
         "USBCables",
         "[20W PD FAST CHARGING]-It’s supports 20W PD quick charge protocol, charge up to 50% in around 30 minutes. It is ideal for charging your USB type c enabled devices at maximum speed|[USB-C to 8 Pin Cable]- It’s offer rapid charging and syncing between USB Type-C and 8 Pin enabled devices. Safe charging at up to 3A is ensured by high-standard components|[MORE DURABLE]- This cable is unique interms of design and multi-use and is positioned to provide the best comfort and performance while using|[FLEXIBLE CORD]- The Cable uses nylon Braided + Metal Housing material to make sure that the life of the cable is enhanced significantly. It is 4mm extra thick slim 1.2meter long|[UNIVERSAL COMPATIBILITY]-Charge for all Type C USB connectivity devices including MacBook 12 inch, Nexus 5x, Nexus 6p, OnePlus 2, pixel c, Lumia 950, Lumia 950 xl, Nokia n1, etc"
        ],
        [
         "14",
         "Portronics Konnect L 1.2M POR-1401 Fast Charging 3A 8 Pin USB Cable with Charge & Sync Function (White)",
         "USBCables",
         "[CHARGE & SYNC FUNCTION]- This cable comes with charging & Data sync function|[HIGH QUALITY MATERIAL]- TPE + Nylon Material to make sure that the life of the cable is enhanced significantly|[LONG CORD]- The Cable is extra thick 1.2 meter long, optimized for an easy use for your comfort at home or office|[MORE DURABLE]-This cable is unique interms of design and multi-use and is positioned to provide the best comfort and performance while using|[UNIVERSAL COMPATIBILITY]- Compatible with all devices like iPhone XS, X, XR, 8, 7, 6S, 6, 5S, iPad Pro, iPad mini and iPad Air"
        ],
        [
         "15",
         "MI Braided USB Type-C Cable for Charging Adapter (Red)",
         "USBCables",
         "1M Long Cable. Usb 2.0 (Type A)|Toughened Joints|Strong And Sturdy|Country Of Origin: China|6 Months Warranty"
        ],
        [
         "16",
         "MI 80 cm (32 inches) 5A Series HD Ready Smart Android LED TV L32M7-5AIN (Black)",
         "SmartTelevisions",
         "Note : The brands, Mi and Xiaomi, are part of the same multinational conglomerate|Resolution : HD Ready (1366 x 768) Resolution | Refresh Rate : 60 Hertz | 178 Degree wide viewing angle|Connectivity: Dual Band Wi-Fi | 2 HDMI ports to connect latest gaming consoles, set top box, Blu-ray Players | 2 USB ports to connect hard drives and other USB devices | ALLM | ARC | Bluetooth 5.0 | Ethernet|Sound: 20 Watts Output | Dolby Audio, DTS Virtual: X, DTS-HD|Smart TV Features : Android TV 11 | PatchWall | IMDb Integration | Universal Search | 300+ Free Live Channels | Kids Mode with Parental lock | Smart Recommendations | Language Universe – 15+ Languages | User Centre | Okay Google | Chromecast suporting Apps : Netflix, Prime Video, Disney+ Hotstar | 5000+ apps from Play Store |Quad core Cortex A35 | Chromecast built-in | Ok Google | Auto Low Latency Mode | 1GB RAM + 8GB Storage|Display: HD Ready | Vivid Picture Engine|Warranty Information: 1 year comprehensive warranty on product and 1 year additional on Panel provided by the brand from the date of purchase"
        ],
        [
         "17",
         "Ambrane Unbreakable 60W / 3A Fast Charging 1.5m Braided Type C to Type C Cable for Smartphones, Tablets, Laptops & Other Type C Devices, PD Technology, 480Mbps Data Sync (RCTT15, Black)",
         "USBCables",
         "Compatible with all Type C enabled devices, be it an android smartphone (Mi, Samsung, Oppo, Vivo, Realme, OnePlus, etc), tablet, laptop (Macbook, Chromebook, etc)|Unbreakable – Made of special braided outer with rugged interior bindings, it is ultra-durable cable that won’t be affected by daily rough usage|Ideal Length – It has ideal length of 1.5 meters which is neither too short like your typical 1meter cable or too long like a 2meters cable|Supports maximum 3A fast charging and 480 Mbps data transfer speed|6 months manufacturer warranty from the date of purchase"
        ],
        [
         "18",
         "boAt Type C A325 Tangle-free, Sturdy Type C Cable with 3A Rapid Charging & 480mbps Data Transmission(Black)",
         "USBCables",
         "Type C A 325 Cable Is Designed With A Perfect 1.5 Meters In Length For Hassle Free Usage|It Dons Premium Braided Skin That Makes It Sturdy And Invincible Against External Damage With 10000+ Bends Lifespan The Cable Stays Stronger And Lasts Longer|Type C A 325 Offers Universal Compatibility With Smartphones, Tablets, Pc Peripherals, Bluetooth Speakers, Power Banks And All Other Devices With Type C Port|The Reversible Metallic Aluminium Tip Lets The User Connect Devices In A Carefree Manner|Its Flexible Design Offers The User A Tangle-Free Experience|2 years warranty from the date of purchase"
        ],
        [
         "19",
         "LG 80 cm (32 inches) HD Ready Smart LED TV 32LM563BPTC (Dark Iron Gray)",
         "SmartTelevisions",
         "Resolution: HD Ready (1366x768) | Refresh Rate: 50 hertz|Connectivity: 2 HDMI ports to connect set top box, Blu Ray players, gaming console | 1 USB ports to connect hard drives and other USB devices|Sound output: 10 Watts Output I 2 Speakers | DTS Virtual:X | Sound Type : Down Firing|Smart TV Features: Web OS Smart TV | Wi-Fi | Home Dashboard | Screen Mirroring | Mini TV Browser | Multi-Tasking | Office 365, Set WXHXD (with Stand ) mm - 739 x 472 x 168|Display: Active HDR | Display Type: Flat | BackLight Module: Slim LED|Warranty Information: 1 Year LG India Comprehensive Warranty and additional 1 year Warranty is applicable on panel/module from the date of purchase|Installation : For requesting installation/wall mounting/demo of this product once delivered, please directly call LG support (Please visit LG Website for Toll Free Numebrs) and provide product's model name as well as seller's details mentioned on the invoice"
        ],
        [
         "20",
         "Duracell USB Lightning Apple Certified (Mfi) Braided Sync & Charge Cable For Iphone, Ipad And Ipod. Fast Charging Lightning Cable, 3.9 Feet (1.2M) - Black",
         "USBCables",
         "Supports Ios Devices With Max Output Up To 2.4A|Up To 10, 000+ Bend And 10, 000+ Plugging And Unplugging Test Ensure This Cable A Longer Lifespan|Ensure Fast And Stable Data Transmission Up To 480 Mbps|2 Years Warranty|Compatible Designed To Work Flawlessly With Mfi Or Apple Devices, Iphone, Imac, Ipad Etc|1.2M Tangle Free Durable Tough Braiding Sync & Charge Cable"
        ],
        [
         "21",
         "tizum HDMI to VGA Adapter Cable 1080P for Projector, Computer, Laptop, TV, Projectors & TV",
         "HDMICables",
         "Superior Stability: Built-in advanced Certified AG6200 IC chip converts HDMI digital signal to VGA analog signal. It is NOT a bi-directional converter and cannot transmit signals from VGA to HDMI.|Compact Design: Tizum HDMI to VGA adapter is compact & lightweight which makes it easy to carry, travel friendly and also saves space on your desk helping it keep clutter free.|High Definition Image Quality: The HDMI male to VGA female converter supports resolution up to 1920x1080 60Hz (1080p Full HD) including 720p, 1600x1200, 1280x1024 for high definition monitors & projectors.|Wide Compatibility: The adapter is compatible with Computer, PC, Desktop, Laptop, Notebook, Chromebook, PS3, Xbox, Set Top Box, TV & other devices with HDMI port. Note: Does not Support Audio.|Incredible Performance: It resists corrosion & abrasion; improves signal transmission; & protects HDMI port of your device to ensure a longer lifespan"
        ],
        [
         "22",
         "Samsung 80 cm (32 Inches) Wondertainment Series HD Ready LED Smart TV UA32T4340BKXXL (Glossy Black)",
         "SmartTelevisions",
         "Resolution: HD Ready (1366x768) | Refresh Rate: 60 hertz|Connectivity: 2 HDMI ports to connect set top box, Blu Ray players, gaming console | 1 USB ports to connect hard drives and other USB devices|Sound : 20 Watts Output | Dolby Digital Plus|Smart TV Features : Personal Computer | Screen Share | Music System | Content Guide | Connect Share Movie|Display : LED Panel | Mega Contrast | PurColor | HD Picture Quality | Slim & Stylish Design|Warranty Information: 1 year comprehensive warranty plus additional 1 years on panel by brand from date of invoice|Installation: TV Table stand is not included in the box with this model. customer may ask for Table Top Stand or Wall Mount which will be provided to the customer at the time of installation, please directly call Samsung support on [1800407267864 / 180057267864] and provide product's model name as well as seller's details mentioned on the invoice|Easy Returns: This product is eligible for replacement within 10 days of delivery in case of any product defects, damage or features not matching the description"
        ],
        [
         "23",
         "Flix Micro Usb Cable For Smartphone (Black)",
         "USBCables",
         "Micro usb cable is 1 meter in length, optimized for easy use for your comfort at home or office, helps you to overcome distance restrictions|Durable pvc outer exterior: Pvc cables are versatile, high in tensile strength, flexible, and good conductors|Charge & sync, this usb cable can charge and data sync simultaneously at 480mbps speed, compatible with all devices with a micro usb port. Core : Tinned copper|Micro usb charging cable for android phones and any other device with micro usb port|Contact us on 1800-102-2700 or write us on support@flixaccessories.com"
        ],
        [
         "24",
         "Acer 80 cm (32 inches) I Series HD Ready Android Smart LED TV AR32AR2841HDFL (Black)",
         "SmartTelevisions",
         "Resolution : HD Ready (1366x768) | Refresh Rate : 60 Hertz | 178 Degree wide viewing angle|Connectivity: Dual band Wifi | 2 way Bluetooth | HDMI ports 2.0 x 2 (HDMI 1 supports ARC) to connect personal computer, laptop, set top box, Blu-ray speakers or a gaming console | USB ports 2.0 x 2 to connect hard drives or other USB device|Sound: 24 Watts Output | High Fidelity Speakers with Dolby Audio | 5 Sound Modes - Movie, Music, Standard, News, Sports|Smart Tv Features: Google certified Android TV 11 | Google Assistant | Chromecast built-in | Voice controlled Smart Remote | Hotkeys for Quick Access - Netflix, Prime Video, YouTube, Disney+Hotstar | 5 Picture Mode | 1.5GB RAM | 8GB Storage | 64bit Quad Core Processor|Display : 16.7 Million Colours | Wide Colour Gamut | Intelligent Frame Stabilization Engine | HDR10+ | Super Brightness | Micro Dimming | Blue Light Reduction|Warranty Information: 1 year comprehensive warranty provided by the manufacturer from date of purchase|Installation: Installation/Wall mounting/demo will be arranged by AHS Team. For any other information, please contact Amazon customer support | Wall Mount is not included in the box and will be charged at the time of installation|Easy Returns: This product is eligible for replacement within 10 days of delivery in case of any product defects, damage or features not matching the description"
        ],
        [
         "25",
         "Tizum High Speed HDMI Cable with Ethernet | Supports 3D 4K | for All HDMI Devices Laptop Computer Gaming Console TV Set Top Box (1.5 Meter/ 5 Feet)",
         "HDMICables",
         "Latest Standard HDMI A Male to A Male Cable: Supports Ethernet, 3D, 4K video and Audio Return Channel (ARC)|Connects Blu-ray players, Fire TV, Apple TV, PS4, PS3, Xbox One, Xbox 360, Computers, DVD Players, Set Top Box, Dish TV Box, and other HDMI-enabLED devices to TVs, displays, A/V receivers and more.Suitable For Mp3, Gaming Device, Mobile, Tablet, Laptop|Cable allows you to share an Internet connection among multiple devices without the need for a separate Ethernet cable|Meets HDMI 1.4 Standards (4K Video at 24 Hz, 2160p, 48 bit/px color depth) that supports bandwidth up to 10.2Gbps and backwards compatible with earlier versions|✔ Gold Plate HDMI Cable of Length: 5 Feet/ 1.8 Meters"
        ],
        [
         "26",
         "OnePlus 80 cm (32 inches) Y Series HD Ready LED Smart Android TV 32Y1 (Black)",
         "SmartTelevisions",
         "Resolution: HD Ready (1366x768) | Refresh Rate: 60 hertz|Connectivity: 2 HDMI ports to connect set top box, Blu Ray players, gaming console | 2 USB ports to connect hard drives and other USB devices, Dimensions(TV With Stand) - 71.3cm*20cm*46.9cm, VESA Hole Pitch - 20cm*20cm|Sound : 20 Watts Output | Dolby Audio|Smart TV Features: Android TV 9.0 | OnePlus Connect | Google Assistant | Play Store | Chromecast | Shared Album | Supported Apps : Netflix, YouTube, Prime video | Content Calendar | OxygenPlay|Display : LED Panel | Noise Reduction | Colour Space Mapping |Dynamic Contrast | Anti-Aliasing | DCI-P3 93% colour gamut | Gamma Engine|Warranty Information: 1 year comprehensive warranty and additional 1 year on panel provided by the manufacturer from date of purchase|Installation/Wall mounting/demo will be arranged by Amazon Home Services. For any other information, please contact Amazon customer support | Wall Mount is not included in the box and will be charged extra at the time of installation|Easy returns: This product is eligible for replacement within 10 days of delivery in case of any product defects, damage or features not matching the description provided"
        ],
        [
         "27",
         "Ambrane Unbreakable 3 in 1 Fast Charging Braided Multipurpose Cable for Speaker with 2.1 A Speed - 1.25 meter, Black",
         "USBCables",
         "Blazing Charging - All combined 3 in 1 cable supports fast charging with the speed 2.1A to all your gadgets including mobiles, tablets, speakers and much more.|Ultra Durable - The cable is crafted with braided wire giving you an extra tough braided cable with 10000+ bends lifespan cycle.|Universal Compatibility - The 3 in 1 cable gives you universal compatibility with its flexible and high-quality material that comes with a USB type C connector, micro USB connector and lightning connector.|Convenient Length - The durable and flexible cable comes with an ideal length of 1.25 meter which eliminates the struggle of finding nearby switch boards.|180 days manufacturer warranty from the date of purchase."
        ],
        [
         "28",
         "Duracell USB C To Lightning Apple Certified (Mfi) Braided Sync & Charge Cable For Iphone, Ipad And Ipod. Fast Charging Lightning Cable, 3.9 Feet (1.2M) - Black",
         "USBCables",
         "1.2M Tangle Free durable tough braiding sync & charge cable|Supports iOS devices with max output up to 2.4A|Ensure fast and stable data transmission up to 480 Mbps|Up to 10,000+ bend and 10,000+ plugging and unplugging test ensure this cable a longer lifespan|Compatible designed to work flawlessly with MFi or apple devices, iPhone, iMac, iPad etc.|2 Years Warranty"
        ],
        [
         "29",
         "boAt A400 USB Type-C to USB-A 2.0 Male Data Cable, 2 Meter (Black)",
         "USBCables",
         "2 meter special reversible Type-C to USB A male user-friendly design helps you insert the connector in a right way all the time|Data sync and charge for apple new MacBook 12 inch, nexus 5x, nexus 6p, OnePlus 2, pixel c, Lumia 950, Lumia 950 xl, Nokia n1, Chromebook google pixel, Asus zenphone3 and other USB-c devices|Support the maximum 3A fast charging and the speed of data sync up to 480 mbps|Aesthetically designed, aluminium ends, with high-density boAt's premium nylon braiding wrapped around the entire length of the tangle free cable for reinforcement and added durability|One end normal USB type a and other end USB type c"
        ],
        [
         "30",
         "AmazonBasics USB 2.0 - A-Male to A-Female Extension Cable for Personal Computer, Printer (Black, 9.8 Feet/3 Meters)",
         "USBCables",
         "One 9.8-foot-long (3 meters) USB 2.0 A-Male to A-Female high-speed extension cable|Extends your USB connection to your computer by 9.8 feet; for use with printers, cameras, mice, keyboards and other USB computer peripherals|Constructed with corrosion-resistant, gold-plated connectors for optimal signal clarity and shielding to minimize interference|Features shielding that provides protection against noise from electromagnetic and radio-frequency signals, keeping your signal clear with less loss of bandwidth for higher performance|Typically, the Male A connector plugs into your computer and the Female A connects to the cable you need extended|1 year limited warranty"
        ],
        [
         "31",
         "Ambrane 60W / 3A Type C Fast Charging Unbreakable 1.5m L Shaped Braided Cable, PD Technology, 480Mbps Data Transfer for Smartphones, Tablet, Laptops & other type c devices (ABLC10, Black)",
         "USBCables",
         "Stay ahead and never miss out with a 3A and 30W fast charging for your devices.|It supports Quick Charge 2.0/ 3.0 technology to keep your devices boosted up.|Its L-shape provides durability and comfort while you charge your favourite gadgets.|It comes with upto 60W flash charge support to make you always stay ahead.|Crafted for convenience, it allows you to charge and sync data with just one cable."
        ],
        [
         "32",
         "Zoul USB C 60W Fast Charging 3A 6ft/2M Long Type C Nylon Braided Data Cable Quick Charger Cable QC 3.0 for Samsung Galaxy M31S M30 S10 S9 S20 Plus, Note 10 9 8, A20e A40 A50 A70 (2M, Grey)",
         "USBCables",
         "{3A/QC 3.0 FAST CHARGING and DATA SYNC} : This USB C cable supports QC 3.0 Fast Charging and Data Syncing, max current 3.0A and transfer speed up to 480Mbps. Built-in 56K pull-up resistor and strong metal connections provides reliable conductivity and stability.|{Nylon Braided Tangle-free Design} : Premium Nylon Braided Type C Cable/Lead adds additional durability and tangle free with a tested lifespan of 10000+ bending test.|{SAFE & RELIABLE} : High-purity copper wire features anti-oxidation and anti-rust, which will keep long-lasting fast charging performance. This Type c cable fast charging has safety certification, you have no need to worry about this cable quality at all.|{What You Get} : Premium Nylon Braided Cable 6FT(2M) and our friendly customer service."
        ],
        [
         "33",
         "Samsung Original Type C to C Cable - 3.28 Feet (1 Meter), White",
         "USBCables",
         "USB Type-C to Type-C cable with universal compatibility|1m Length & Reversible design|High Speed Data/Charging with USB 2.0"
        ],
        [
         "34",
         "pTron Solero T351 3.5Amps Fast Charging Type-C to Type-C PD Data & Charging USB Cable, Made in India, 480Mbps Data Sync, Durable 1 Meter Long Cable for Type-C Smartphones, Tablets & Laptops (Black)",
         "USBCables",
         "Universal Compatibility: Solero T351 USB charging cable connects USB Type-C devices with USB Type-C devices like laptops, hard drives, power banks, wall chargers, car chargers, etc.|Ultimate Speed Charging: The built-in superconductivity copper wires enable a secure and real 3.5Amps output to charge your device at a super-fast charging speed.|Fast Data Sync: Comply with USB 2.0 Type C standard, this USB 2.0 C to C cable support data transfer speeds up to 480Mbps, which allows you to transfer 100 songs every 5 seconds.|Ultra Durability: Connectors with molded strain relief enable this Type-C cable to resist 10,000+ plug and unplug tests. Premium PVC cable exterior enables it to withstand 10,000+ bending tests.|1 Meter Long: Engineered & tested for compatibility with all USB-C devices, ensuring safe charging. Its flexible design offers users a tangle-free experience. 6 months warranty from the manufacturer."
        ],
        [
         "35",
         "pTron Solero MB301 3A Micro USB Data & Charging Cable, Made in India, 480Mbps Data Sync, Strong & Durable 1.5-Meter Nylon Braided USB Cable for Micro USB Devices - (Black)",
         "USBCables",
         "Fast Charging & Data Sync: Solero MB301 micro USB cable supports fast charge up to 5V/3A for devices and data syncing speed up to 480Mbps.|Universal Compatibility: This USB charging cable connects micro USB port devices with standard USB port devices like laptops, hard drives, power banks, wall and car chargers, etc.|Rough & Tough USB Cable: Charging cable with a double-braided exterior, premium aramid fiber core and metal plugs. It has passed 10,000 bending tests and can easily withstand daily use.|Extended Length: 1.5-meter long micro USB data and charging cable use nylon material to protect the wire and avoid knots.|Perfect Fit Connectors: pTron Soler MB301 has passed the 5KG load test, swing test, 5000+ times connect & disconnect to ensure that there are no loose connections."
        ],
        [
         "36",
         "Amazonbasics Nylon Braided Usb-C To Lightning Cable, Fast Charging Mfi Certified Smartphone, Iphone Charger (6-Foot, Dark Grey)",
         "USBCables",
         "Fast Charge: When Used With An 18W Or Higher Usb-C Wall Charger With Power Delivery You Can Charge Your Iphone To 50% Battery In Just 30 Minutes - Supported Models Include Iphone 8, 8 Plus, X, Xs, Xr, Xs Max, 11, 11 Pro, 11 Pro Max, Ipads, And More. High-Speed Data Transfer: Up To 480 Mbps For Transferring Music, Movies, And More In Seconds|Durable Friendly Design: Built With Top Rated Materials And Tested To Withstand Up To X Bend Cycles And Features Textured Grooves On Connector Ends For Improved Grip|Certified Chip: Apple Mfi Certified Charging And Syncing Cable For Your Apple Devices With Improved Chipset To Ensure Full Compatibility|This Cable Is Not Compatible With Standard Usb Chargers / Laptop Ports. Works Only With Type C Adapters And Laptop Ports. Please Check The Port Of Your Adapter Before Buying The Cable.|Connector Type: Usb Type C"
        ],
        [
         "37",
         "Sounce 65W OnePlus Dash Warp Charge Cable, 6.5A Type-C to USB C PD Data Sync Fast Charging Cable Compatible with One Plus 8T/ 9/ 9R/ 9 pro/ 9RT/ 10R/ Nord & for All Type C Devices – Red, 1 Meter",
         "USBCables",
         "[USB C To USB C Cord 1M] With This 1 Meter USB C Fast Charger Cable, You Can Enjoy Convenient Charging for Your USB C Laptops, Tablets, And Smartphones. Perfect For Used on Sofas, Beds, In the Car, And Other Places.|[6.5 Amp USB C Cable High-Speed Data and Charging] Our Type C To Type C Cable Perfect Match with All 60W 45W 30W 18W 15W USB-C Power Adapters, Support Pd 3.0 And Qc 3.0 Fast Charge for Your Devices. Data Transfer Speed Is Up To 480Mbps Of USB 2.0. Note: Not Support Video Transfer.|[USB C To USB C Fast Charging Cable 6Ft] This Newest USB C To C Cable Support Warp Charge For One plus 8T, One plus 9/9 Pro, Too Fast Charge For MacBook Air 13 Inch 2020/2019/2018, For MacBook Pro 13/15/16 Inch 2020/2019/2018/2017/2016, For iPad Mini 2021, For iPad Pro 12.9/11 Inch 2020, For Google Pixel 6/6 Pro/5/4A/4 Xl/4/3A Xl/3A/3 Xl/3/2 Xl/2, For Samsung Galaxy S21 Fe 5G/S20 Fe 5G/Note 20 Ultra/Note 20/S20/S20+/S20 Ultra, Galaxy Z Flip 3, Galaxy Z Fold 3, And More Devices.|[One plus 8T Warp Charge Cable] Wrapped in Premium Silicon Coating, High-Quality Pure Copper Core, Prolong Bending Lifespan. Both USB C Connectors are Designed with An Advanced Emark Chip for Higher Efficiency & Safer Charging for Your One plus 8T. Output Delivery At 6.5A 10V Max, 65% Charging Capacity Only Takes 30 Minutes, Saving Your Valued Time.|[What You Get] USB C Super-Fast Charging Cable and One Year Worry-Free Replacement! If You Have Any Issues, Please Don’t Hesitate to Contact Customer Service."
        ],
        [
         "38",
         "OnePlus 126 cm (50 inches) Y Series 4K Ultra HD Smart Android LED TV 50Y1S Pro (Black)",
         "SmartTelevisions",
         "Resolution: 4K Ultra HD (3840x2160) | Bezel-less Design|Connectivity: Dual-band Wi-Fi | 3HDMI ports to connect set top box, Blu Ray players, gaming console | 2 USB ports to connect hard drives and other USB devices|Sound : 24 Watts Output | Dolby Audio | Dolby Atmos Decoding|Smart TV features: Android TV | OnePlus Connect Ecosystem| Google Assistant | Chromecast, Miracast, DLNA | Auto Low Latency Mode | Supported Apps : Netflix, Youtube, Prime Video, Hotstar, SonyLiv, Hungama, JioCinema, Zee5, Eros Now, Oxygen Play|Display: 1 billion colors | Gamma Engine with MEMC | Decoding of HDR10+, HDR10, HLG|Warranty Information: 1 year comprehensive warranty and additional 1 year on panel provided by the manufacturer from date of purchase|Installation/Wall mounting/demo will be arranged by Amazon Home Services. For any other information, please contact Amazon customer support | Wall Mount is not included in the box and will be charged extra at the time of installation"
        ],
        [
         "39",
         "Duracell Type C To Type C 5A (100W) Braided Sync & Fast Charging Cable, 3.9 Feet (1.2M). USB C to C Cable, Supports PD & QC 3.0 Charging, 5 GBPS Data Transmission – Black",
         "USBCables",
         "Up To 10,000+ Bend And 10,000+ Plugging And Unplugging Test Ensure This Cable A Longer Lifespan|Ensure Fast And Stable Data Transmission Up To 5 Gbps|Compatible Designed To Work Flawlessly With All Usb-C Devices|2 Years Warranty|1.2M Tangle Free Durable Tough Braiding Sync & Charge Cable"
        ],
        [
         "40",
         "AmazonBasics USB 2.0 Cable - A-Male to B-Male - for Personal Computer, Printer- 6 Feet (1.8 Meters), Black",
         "USBCables",
         "One 6-foot-long (1.8 meters) high-speed multi-shielded USB 2.0 A-Male to B-Male cable|Connects mice, keyboards and speed-critical devices, such as external hard drives, printers and cameras to your computer|Constructed with corrosion-resistant, gold-plated connectors for optimal signal clarity and shielding to minimize interference|Full 2.0 USB capability/480 Mbps transfer speed|1 year limited warranty"
        ],
        [
         "41",
         "Mi 108 cm (43 inches) Full HD Android LED TV 4C | L43M6-INC (Black)",
         "SmartTelevisions",
         "Resolution : Full HD (1920x1080) | Refresh Rate : 60 Hertz | 178 Degree wide viewing angle|Connectivity: 3 HDMI ports to connect set top box, Blu-Ray players, gaming console | 3 USB ports to connect hard drives and other USB devices | 3.5mm to connect your headphones | S/PDIF port to connect Speakers|Sound: 20 Watts Powerful Stereo Speakers | DTS-HD|Smart TV Features : Android TV 9 | Chromecast built-in | PatchWall 4 with IMDb integration | 75+ Free Live Channels | Universal search | Language Universe (16+ Languages) | Miracast | Supported Apps: Prime Video | Netflix, Disney + Hotstar, YouTube, Apple TV, 5000+ apps from Play Store | Quad core processor | Built-in Wi-Fi | 1GB RAM + 8GB Storage|Display: LED Panel | Vivid Picture engine | Detailed Picture Controls | Ultra bright screen | Dynamic contrast | Dynamic backlight|Warranty Information: 1 year comprehensive warranty on product and 1 year additional on Panel provided by the brand from the date of purchase|Installation/Wall mounting/demo will be arranged by AHS Team or Xiaomi service partner. For more information, please call Mi support on Toll Free Number (Please visit brand website for toll free numebrs) | Wall Mount is not included in the box and will be charged extra at the time of installation"
        ],
        [
         "42",
         "Wayona Nylon Braided 3A Lightning to USB A Syncing and Fast Charging Data Cable for iPhone, Ipad (3 FT Pack of 1, Black)",
         "USBCables",
         "[High Compatibility] : iPhone X/XsMax/Xr ,iPhone 8/8 Plus,iPhone 7/7 Plus,iPhone 6s/6s Plus,iPhone 6/6 Plus,iPhone 5/5s/5c/se,iPad Pro,iPad Air 1/2,iPad mini 1/2/3,iPod nano7,iPod touch and more apple devices.|[Fast Charge&Data Sync ] : It can charge and sync simultaneously at a rapid speed, Compatible with any charging adaptor, multi-port charging station or power bank.|[Durability] : Durable nylon braided design with premium aluminum housing and toughened nylon fiber wound tightly around the cord lending it superior durability and adding a bit to its flexibility.|[High Security Level ] : It is designed to fully protect your device from damaging excessive current.Copper core thick+Multilayer shielding, Anti-interference, Protective circuit equipment."
        ],
        [
         "43",
         "TP-Link Nano AC600 USB Wi-Fi Adapter(Archer T2U Nano)- 2.4G/5G Dual Band Wireless Network Adapter for PC Desktop Laptop, Mini Travel Size, Supports Windows 11,10, 8.1, 8, 7, XP/Mac OS 10.9-10.15",
         "WirelessUSBAdapters",
         "High Speed WiFi —— Up to 600Mbps speeds with 200Mbps on 2.4GHz and 433 Mbps on 5GHz, upgrades your devices to higher AC WiFi speeds|Dual Band Wireless —— 2.4GHz and 5GHz band for flexible connectivity, upgrades your devices to work with the latest dual-band WiFi router for faster speed and extended range|Nano design —— Small, unobtrusive design allows you to plug it in and forget it is even there|Operating System —— Supports Windows 11/10/8.1/8/7/XP, Mac OS 10.15 and earlier|Advanced Security —— Supports 64/128-bit WEP, WPA/WPA2, and WPA-PSK/WPA2-PSK encryption standards|Worry-free customer support —— For other installation related query, compatibility issue or any other queries call on toll free no"
        ],
        [
         "44",
         "FLiX (Beetel USB to Micro USB PVC Data Sync & 2A Fast Charging Cable, Made in India, 480Mbps Data Sync, Solid Cable, 1 Meter Long USB Cable for Micro USB Devices (White)(XCD-M11)",
         "USBCables",
         "Micro USB charging cable for android phones and any other device with Micro USB Port|Charge & sync, this USB cable can charge and data sync simultaneously at 480Mbps speed, compatible with all devices with a Micro USB port. Core : Tinned Copper|Durable PVC Outer Exterior: PVC cables are versatile, high in tensile strength, flexible, and good conductors.|micro USB cable is 1 meter in length, optimized for easy use for your comfort at home or office, helps you to overcome distance restrictions."
        ],
        [
         "45",
         "Wecool Nylon Braided Multifunction Fast Charging Cable For Android Smartphone, Ios And Type C Usb Devices, 3 In 1 Charging Cable, 3A, (3 Feet) (Black)",
         "USBCables",
         "Special Features Of The Universal Cable: This Cable Is Touch And Sleek, Highly Durable, Premium Nylon Braided Cable, Has 1 Year Warranty.|Ultra Durable Usb Cable: This Universal Cable Is Made Of High-Quality Nylon Material And Makes It Resistant To Fraying And Wear-Related Damage, More Flexible And Durable|Fast Charging Cable: This Universal Cable Can Simultaneously Charge Android, Ios And Type C Devices. All Combined 3 In 1 Power Cord. All In One Charger|Usb Cable For Fast Charging: This Charging Cable Is Designed For Charging The Devices Quickly. The 3A Charger Is Universally Suitable For Charging All Smartphones|Country Of Origin: China|Multifunctional Usb Cable: Wecool 3 In 1 Charging Cable Is Tangle Free, Rugged, Quick Charging, Universally Compatible, Flexible And Of"
        ],
        [
         "46",
         "D-Link DWA-131 300 Mbps Wireless Nano USB Adapter (Black)",
         "WirelessUSBAdapters",
         "Connects your computer to a high-speed wireless network|Supports WPA/WPA2 wireless encryption to help prevent outside intrusion and protect your personal information from being exposed.|3 Year Brand Warranty|2.4Ghz frequency band (300mbps)|2 fixed internal Wi-Fi antenna|N300 MIMO Wi-Fi USB Adapter|This is a plug and play device with generic configuration|Compatible with all CCTV DVRs"
        ],
        [
         "47",
         "Amazon Basics High-Speed HDMI Cable, 6 Feet - Supports Ethernet, 3D, 4K video,Black",
         "HDMICables",
         "Please select appropriate display resolution & refresh rate for proper display output. HDMI A Male to A Male Cable: Supports Ethernet, 3D, 4K video and Audio Return Channel (ARC)|Connects Blu-ray players, Fire TV, Apple TV, PS4, PS3, XBox one, Xbox 360, computers and other HDMI-enabled devices to TVs, displays, A/V receivers and more|Cable allows you to share an Internet connection among multiple devices without the need for a separate Ethernet cable|Meets HDMI 2.0 standards (4K Video at 60 Hz, 2160p, 48 bit/px color depth) that supports bandwidth up to 18Gbps and backwards compatible with earlier versions|Cable Length: 6 feet (1.8 meters); 1 year limited warranty"
        ],
        [
         "48",
         "7SEVEN® Compatible for Samsung Smart 4K Ultra HD TV Monitor Remote Control Replacement of Original Samsung TV Remote for LED OLED UHD QLED and Suitable for 6 7 8 Series Samsung TV with Hot Keys BN59-01259E",
         "RemoteControls",
         "1. 7SEVEN Compatible remote suitable for all Original samasung TV / Monitor remote and have speciality with Hotkeys feature. It comes with NETFLIX, prime Video and ZEE5(www) Hotkeys. Incase ZEE5 app not available in your samsung smart tv then it will open default www(web broswer).|2. Equipped with various buttons and controls, this remote lets you adjust settings of your LED OLED QLED Curved & Plasma TV easily with the comfort of your sofa or bed.|3. This Remote does not have Bluetooth feature. No voice functions. This is a remote control to control TV mode & it does not control or support the set-top box mode.|4. No pairing required after load new AA Alkaline batteries, Samsung Remote suitable for smart tv's and monitor|5. This is a 7SEVEN compatible Product & Not Original Samsung Remote."
        ],
        [
         "49",
         "Amazonbasics Micro Usb Fast Charging Cable For Android Smartphone,Personal Computer,Printer With Gold Plated Connectors (6 Feet, Black)",
         "USBCables",
         "Cable Length: 6 Feet (1. 82 Meters)|Gold-Plated Connectors Resist Corrosion For Signal Purity|Smaller Connector Designed To Fit Smaller Spaces|1 Year Limited Warranty|Supports Up To 480 Mbps Data Transmission Speed|Micro Usb Charging Cable For Android Phones|Ideal For Charging Android Phones And Tablets Or Connecting Pc Peripherals Such As Hard Drives, Printers, And More"
        ]
       ],
       "shape": {
        "columns": 3,
        "rows": 1465
       }
      },
      "text/html": [
       "<div>\n",
       "<style scoped>\n",
       "    .dataframe tbody tr th:only-of-type {\n",
       "        vertical-align: middle;\n",
       "    }\n",
       "\n",
       "    .dataframe tbody tr th {\n",
       "        vertical-align: top;\n",
       "    }\n",
       "\n",
       "    .dataframe thead th {\n",
       "        text-align: right;\n",
       "    }\n",
       "</style>\n",
       "<table border=\"1\" class=\"dataframe\">\n",
       "  <thead>\n",
       "    <tr style=\"text-align: right;\">\n",
       "      <th></th>\n",
       "      <th>product_name</th>\n",
       "      <th>category</th>\n",
       "      <th>about_product</th>\n",
       "    </tr>\n",
       "  </thead>\n",
       "  <tbody>\n",
       "    <tr>\n",
       "      <th>0</th>\n",
       "      <td>Wayona Nylon Braided USB to Lightning Fast Cha...</td>\n",
       "      <td>USBCables</td>\n",
       "      <td>High Compatibility : Compatible With iPhone 12...</td>\n",
       "    </tr>\n",
       "    <tr>\n",
       "      <th>1</th>\n",
       "      <td>Ambrane Unbreakable 60W / 3A Fast Charging 1.5...</td>\n",
       "      <td>USBCables</td>\n",
       "      <td>Compatible with all Type C enabled devices, be...</td>\n",
       "    </tr>\n",
       "    <tr>\n",
       "      <th>2</th>\n",
       "      <td>Sounce Fast Phone Charging Cable &amp; Data Sync U...</td>\n",
       "      <td>USBCables</td>\n",
       "      <td>【 Fast Charger&amp; Data Sync】-With built-in safet...</td>\n",
       "    </tr>\n",
       "    <tr>\n",
       "      <th>3</th>\n",
       "      <td>boAt Deuce USB 300 2 in 1 Type-C &amp; Micro USB S...</td>\n",
       "      <td>USBCables</td>\n",
       "      <td>The boAt Deuce USB 300 2 in 1 cable is compati...</td>\n",
       "    </tr>\n",
       "    <tr>\n",
       "      <th>4</th>\n",
       "      <td>Portronics Konnect L 1.2M Fast Charging 3A 8 P...</td>\n",
       "      <td>USBCables</td>\n",
       "      <td>[CHARGE &amp; SYNC FUNCTION]- This cable comes wit...</td>\n",
       "    </tr>\n",
       "    <tr>\n",
       "      <th>...</th>\n",
       "      <td>...</td>\n",
       "      <td>...</td>\n",
       "      <td>...</td>\n",
       "    </tr>\n",
       "    <tr>\n",
       "      <th>1460</th>\n",
       "      <td>Noir Aqua - 5pcs PP Spun Filter + 1 Spanner | ...</td>\n",
       "      <td>WaterPurifierAccessories</td>\n",
       "      <td>SUPREME QUALITY 90 GRAM 3 LAYER THIK PP SPUN F...</td>\n",
       "    </tr>\n",
       "    <tr>\n",
       "      <th>1461</th>\n",
       "      <td>Prestige Delight PRWO Electric Rice Cooker (1 ...</td>\n",
       "      <td>Rice&amp;PastaCookers</td>\n",
       "      <td>230 Volts, 400 watts, 1 Year</td>\n",
       "    </tr>\n",
       "    <tr>\n",
       "      <th>1462</th>\n",
       "      <td>Bajaj Majesty RX10 2000 Watts Heat Convector R...</td>\n",
       "      <td>HeatConvectors</td>\n",
       "      <td>International design and styling|Two heat sett...</td>\n",
       "    </tr>\n",
       "    <tr>\n",
       "      <th>1463</th>\n",
       "      <td>Havells Ventil Air DSP 230mm Exhaust Fan (Pist...</td>\n",
       "      <td>ExhaustFans</td>\n",
       "      <td>Fan sweep area: 230 MM ; Noise level: (40 - 45...</td>\n",
       "    </tr>\n",
       "    <tr>\n",
       "      <th>1464</th>\n",
       "      <td>Borosil Jumbo 1000-Watt Grill Sandwich Maker (...</td>\n",
       "      <td>SandwichMakers</td>\n",
       "      <td>Brand-Borosil, Specification â€“ 23V ~ 5Hz;1 W...</td>\n",
       "    </tr>\n",
       "  </tbody>\n",
       "</table>\n",
       "<p>1465 rows × 3 columns</p>\n",
       "</div>"
      ],
      "text/plain": [
       "                                           product_name  \\\n",
       "0     Wayona Nylon Braided USB to Lightning Fast Cha...   \n",
       "1     Ambrane Unbreakable 60W / 3A Fast Charging 1.5...   \n",
       "2     Sounce Fast Phone Charging Cable & Data Sync U...   \n",
       "3     boAt Deuce USB 300 2 in 1 Type-C & Micro USB S...   \n",
       "4     Portronics Konnect L 1.2M Fast Charging 3A 8 P...   \n",
       "...                                                 ...   \n",
       "1460  Noir Aqua - 5pcs PP Spun Filter + 1 Spanner | ...   \n",
       "1461  Prestige Delight PRWO Electric Rice Cooker (1 ...   \n",
       "1462  Bajaj Majesty RX10 2000 Watts Heat Convector R...   \n",
       "1463  Havells Ventil Air DSP 230mm Exhaust Fan (Pist...   \n",
       "1464  Borosil Jumbo 1000-Watt Grill Sandwich Maker (...   \n",
       "\n",
       "                      category  \\\n",
       "0                    USBCables   \n",
       "1                    USBCables   \n",
       "2                    USBCables   \n",
       "3                    USBCables   \n",
       "4                    USBCables   \n",
       "...                        ...   \n",
       "1460  WaterPurifierAccessories   \n",
       "1461         Rice&PastaCookers   \n",
       "1462            HeatConvectors   \n",
       "1463               ExhaustFans   \n",
       "1464            SandwichMakers   \n",
       "\n",
       "                                          about_product  \n",
       "0     High Compatibility : Compatible With iPhone 12...  \n",
       "1     Compatible with all Type C enabled devices, be...  \n",
       "2     【 Fast Charger& Data Sync】-With built-in safet...  \n",
       "3     The boAt Deuce USB 300 2 in 1 cable is compati...  \n",
       "4     [CHARGE & SYNC FUNCTION]- This cable comes wit...  \n",
       "...                                                 ...  \n",
       "1460  SUPREME QUALITY 90 GRAM 3 LAYER THIK PP SPUN F...  \n",
       "1461                       230 Volts, 400 watts, 1 Year  \n",
       "1462  International design and styling|Two heat sett...  \n",
       "1463  Fan sweep area: 230 MM ; Noise level: (40 - 45...  \n",
       "1464  Brand-Borosil, Specification â€“ 23V ~ 5Hz;1 W...  \n",
       "\n",
       "[1465 rows x 3 columns]"
      ]
     },
     "execution_count": 4,
     "metadata": {},
     "output_type": "execute_result"
    }
   ],
   "source": [
    "data"
   ]
  },
  {
   "cell_type": "markdown",
   "id": "be6c94a7",
   "metadata": {},
   "source": [
    "#### Creating dataframes for product and description separately."
   ]
  },
  {
   "cell_type": "code",
   "execution_count": 5,
   "id": "b8645e57",
   "metadata": {},
   "outputs": [],
   "source": [
    "products = data[['category', 'product_name']]\n",
    "description = data[['category', 'about_product']]\n",
    "\n",
    "products = products.rename(columns={'product_name': 'text'})\n",
    "description = description.rename(columns={'about_product': 'text'})\n",
    "\n",
    "products['task_type'] = 'Product Name'\n",
    "description['task_type'] = 'Product Description'"
   ]
  },
  {
   "cell_type": "code",
   "execution_count": 6,
   "id": "0eaed654",
   "metadata": {},
   "outputs": [],
   "source": [
    "data = pd.concat([products, description], ignore_index=True)"
   ]
  },
  {
   "cell_type": "markdown",
   "id": "cf04a804",
   "metadata": {},
   "source": [
    "#### Train-Test split"
   ]
  },
  {
   "cell_type": "code",
   "execution_count": 7,
   "id": "db4c0a3e",
   "metadata": {},
   "outputs": [],
   "source": [
    "dataset = Dataset.from_pandas(data)\n",
    "dataset = dataset.shuffle(seed=0)\n",
    "dataset = dataset.train_test_split(test_size=0.1)"
   ]
  },
  {
   "cell_type": "code",
   "execution_count": 8,
   "id": "aeafbd0b",
   "metadata": {},
   "outputs": [
    {
     "data": {
      "text/plain": [
       "DatasetDict({\n",
       "    train: Dataset({\n",
       "        features: ['category', 'text', 'task_type'],\n",
       "        num_rows: 2637\n",
       "    })\n",
       "    test: Dataset({\n",
       "        features: ['category', 'text', 'task_type'],\n",
       "        num_rows: 293\n",
       "    })\n",
       "})"
      ]
     },
     "execution_count": 8,
     "metadata": {},
     "output_type": "execute_result"
    }
   ],
   "source": [
    "dataset"
   ]
  },
  {
   "cell_type": "code",
   "execution_count": 9,
   "id": "7926aa45",
   "metadata": {},
   "outputs": [
    {
     "data": {
      "text/plain": [
       "{'category': 'USBCables',\n",
       " 'text': 'Spaceship grade aluminium cable casing ensures long-lasting durability and reliable charging|Length: 2M',\n",
       " 'task_type': 'Product Description'}"
      ]
     },
     "execution_count": 9,
     "metadata": {},
     "output_type": "execute_result"
    }
   ],
   "source": [
    "dataset['test'][2]"
   ]
  },
  {
   "cell_type": "markdown",
   "id": "f85dac12",
   "metadata": {},
   "source": [
    "\n",
    "## `Decide the number of tokens to be used for finetuning`\n",
    "### Choosing optimum number of tokens for Max token length"
   ]
  },
  {
   "cell_type": "code",
   "execution_count": 10,
   "id": "f0ab05a9",
   "metadata": {},
   "outputs": [],
   "source": [
    "# 1.5 times of total words\n",
    "products['text_tokens'] = products['text'].apply(lambda x: len(x.split())*1.5)\n",
    "description['text_tokens'] = description['text'].apply(lambda x: len(x.split())*1.5)\n"
   ]
  },
  {
   "cell_type": "code",
   "execution_count": 11,
   "id": "2a6f824d",
   "metadata": {},
   "outputs": [
    {
     "data": {
      "text/plain": [
       "<Axes: >"
      ]
     },
     "execution_count": 11,
     "metadata": {},
     "output_type": "execute_result"
    },
    {
     "data": {
      "image/png": "[encoded data removed]",
      "text/plain": [
       "<Figure size 640x480 with 1 Axes>"
      ]
     },
     "metadata": {},
     "output_type": "display_data"
    }
   ],
   "source": [
    "products['text_tokens'].hist()"
   ]
  },
  {
   "cell_type": "code",
   "execution_count": 12,
   "id": "9d3c2896",
   "metadata": {},
   "outputs": [
    {
     "data": {
      "text/plain": [
       "<Axes: >"
      ]
     },
     "execution_count": 12,
     "metadata": {},
     "output_type": "execute_result"
    },
    {
     "data": {
      "image/png": "[encoded data removed]",
      "text/plain": [
       "<Figure size 640x480 with 1 Axes>"
      ]
     },
     "metadata": {},
     "output_type": "display_data"
    }
   ],
   "source": [
    "description['text_tokens'].hist()"
   ]
  },
  {
   "cell_type": "markdown",
   "id": "ea404e9b",
   "metadata": {},
   "source": [
    "#### `Token threshold of 500` would be good enough to capture all the tokens in the dataset for better training purpose."
   ]
  },
  {
   "cell_type": "code",
   "execution_count": 13,
   "id": "e1e5d428",
   "metadata": {},
   "outputs": [],
   "source": [
    "## Data Preparation for tokenization\n",
    "def formatting_func(example):\n",
    "    text = f\"\"\"\n",
    "            Given the product category, you need to generate a '{example['task_type']}'.\n",
    "            ### Category: {example['category']}\\n ### {example['task_type']}: {example['text']}\n",
    "\n",
    "            \"\"\"\n",
    "    return text"
   ]
  },
  {
   "cell_type": "code",
   "execution_count": 14,
   "id": "1ff3d765",
   "metadata": {},
   "outputs": [
    {
     "name": "stdout",
     "output_type": "stream",
     "text": [
      "\n",
      "            Given the product category, you need to generate a 'Product Name'.\n",
      "            ### Category: USBCables\n",
      " ### Product Name: Amazon Basics USB Type-C to USB-A 2.0 Male Fast Charging Cable for Laptop - 3 Feet (0.9 Meters), Black\n",
      "\n",
      "            \n"
     ]
    }
   ],
   "source": [
    "print(formatting_func(dataset['train'][0]))"
   ]
  },
  {
   "cell_type": "markdown",
   "id": "7a58237a",
   "metadata": {},
   "source": [
    "### `Load Base Model and Tokenizer`"
   ]
  },
  {
   "cell_type": "code",
   "execution_count": 15,
   "id": "94e9e92a",
   "metadata": {},
   "outputs": [
    {
     "name": "stderr",
     "output_type": "stream",
     "text": [
      "Loading checkpoint shards: 100%|██████████| 2/2 [00:11<00:00,  5.81s/it]\n"
     ]
    }
   ],
   "source": [
    "import torch\n",
    "from transformers import AutoTokenizer, AutoModelForCausalLM, BitsAndBytesConfig\n",
    "\n",
    "base_model_id = \"microsoft/phi-2\"\n",
    "\n",
    "bnb_config = BitsAndBytesConfig(\n",
    "    load_in_4bit=True,\n",
    "    bnb_4bit_compute_dtype=\"float16\",\n",
    "    bnb_4bit_use_double_quant=True,\n",
    "    bnb_4bit_quant_type=\"nf4\"\n",
    ")\n",
    "\n",
    "model = AutoModelForCausalLM.from_pretrained(base_model_id, trust_remote_code=True,\n",
    "                                             torch_dtype=torch.float16, quantization_config=bnb_config)"
   ]
  },
  {
   "cell_type": "code",
   "execution_count": 16,
   "id": "fd834602",
   "metadata": {},
   "outputs": [],
   "source": [
    "tokenizer = AutoTokenizer.from_pretrained(\n",
    "    base_model_id,\n",
    "    padding_size='left',\n",
    "    add_eos_token=True,\n",
    "    add_bos_token=True,\n",
    "    use_fast=False\n",
    ")\n",
    "\n",
    "tokenizer.pad_token = tokenizer.eos_token"
   ]
  },
  {
   "cell_type": "code",
   "execution_count": 17,
   "id": "6f168275",
   "metadata": {},
   "outputs": [],
   "source": [
    "max_length = 500\n",
    "\n",
    "def tokenize(prompt):\n",
    "  result = tokenizer(\n",
    "      formatting_func(prompt),\n",
    "      truncation = True,\n",
    "      max_length=max_length,\n",
    "      padding = \"max_length\"\n",
    "  )\n",
    "\n",
    "  result['labels'] = result['input_ids'].copy()\n",
    "\n",
    "  return result"
   ]
  },
  {
   "cell_type": "code",
   "execution_count": 18,
   "id": "302f5c6e",
   "metadata": {},
   "outputs": [
    {
     "data": {
      "text/plain": [
       "CodeGenTokenizer(name_or_path='microsoft/phi-2', vocab_size=50257, model_max_length=2048, is_fast=False, padding_side='right', truncation_side='right', special_tokens={'bos_token': '<|endoftext|>', 'eos_token': '<|endoftext|>', 'unk_token': '<|endoftext|>', 'pad_token': '<|endoftext|>'}, clean_up_tokenization_spaces=True, added_tokens_decoder={\n",
       "\t50256: AddedToken(\"<|endoftext|>\", rstrip=False, lstrip=False, single_word=False, normalized=False, special=True),\n",
       "\t50257: AddedToken(\"                               \", rstrip=False, lstrip=False, single_word=False, normalized=True, special=False),\n",
       "\t50258: AddedToken(\"                              \", rstrip=False, lstrip=False, single_word=False, normalized=True, special=False),\n",
       "\t50259: AddedToken(\"                             \", rstrip=False, lstrip=False, single_word=False, normalized=True, special=False),\n",
       "\t50260: AddedToken(\"                            \", rstrip=False, lstrip=False, single_word=False, normalized=True, special=False),\n",
       "\t50261: AddedToken(\"                           \", rstrip=False, lstrip=False, single_word=False, normalized=True, special=False),\n",
       "\t50262: AddedToken(\"                          \", rstrip=False, lstrip=False, single_word=False, normalized=True, special=False),\n",
       "\t50263: AddedToken(\"                         \", rstrip=False, lstrip=False, single_word=False, normalized=True, special=False),\n",
       "\t50264: AddedToken(\"                        \", rstrip=False, lstrip=False, single_word=False, normalized=True, special=False),\n",
       "\t50265: AddedToken(\"                       \", rstrip=False, lstrip=False, single_word=False, normalized=True, special=False),\n",
       "\t50266: AddedToken(\"                      \", rstrip=False, lstrip=False, single_word=False, normalized=True, special=False),\n",
       "\t50267: AddedToken(\"                     \", rstrip=False, lstrip=False, single_word=False, normalized=True, special=False),\n",
       "\t50268: AddedToken(\"                    \", rstrip=False, lstrip=False, single_word=False, normalized=True, special=False),\n",
       "\t50269: AddedToken(\"                   \", rstrip=False, lstrip=False, single_word=False, normalized=True, special=False),\n",
       "\t50270: AddedToken(\"                  \", rstrip=False, lstrip=False, single_word=False, normalized=True, special=False),\n",
       "\t50271: AddedToken(\"                 \", rstrip=False, lstrip=False, single_word=False, normalized=True, special=False),\n",
       "\t50272: AddedToken(\"                \", rstrip=False, lstrip=False, single_word=False, normalized=True, special=False),\n",
       "\t50273: AddedToken(\"               \", rstrip=False, lstrip=False, single_word=False, normalized=True, special=False),\n",
       "\t50274: AddedToken(\"              \", rstrip=False, lstrip=False, single_word=False, normalized=True, special=False),\n",
       "\t50275: AddedToken(\"             \", rstrip=False, lstrip=False, single_word=False, normalized=True, special=False),\n",
       "\t50276: AddedToken(\"            \", rstrip=False, lstrip=False, single_word=False, normalized=True, special=False),\n",
       "\t50277: AddedToken(\"           \", rstrip=False, lstrip=False, single_word=False, normalized=True, special=False),\n",
       "\t50278: AddedToken(\"          \", rstrip=False, lstrip=False, single_word=False, normalized=True, special=False),\n",
       "\t50279: AddedToken(\"         \", rstrip=False, lstrip=False, single_word=False, normalized=True, special=False),\n",
       "\t50280: AddedToken(\"        \", rstrip=False, lstrip=False, single_word=False, normalized=True, special=False),\n",
       "\t50281: AddedToken(\"       \", rstrip=False, lstrip=False, single_word=False, normalized=True, special=False),\n",
       "\t50282: AddedToken(\"      \", rstrip=False, lstrip=False, single_word=False, normalized=True, special=False),\n",
       "\t50283: AddedToken(\"     \", rstrip=False, lstrip=False, single_word=False, normalized=True, special=False),\n",
       "\t50284: AddedToken(\"    \", rstrip=False, lstrip=False, single_word=False, normalized=True, special=False),\n",
       "\t50285: AddedToken(\"   \", rstrip=False, lstrip=False, single_word=False, normalized=True, special=False),\n",
       "\t50286: AddedToken(\"  \", rstrip=False, lstrip=False, single_word=False, normalized=True, special=False),\n",
       "\t50287: AddedToken(\"\t\t\t\t\t\t\t\t\t\", rstrip=False, lstrip=False, single_word=False, normalized=True, special=False),\n",
       "\t50288: AddedToken(\"\t\t\t\t\t\t\t\t\", rstrip=False, lstrip=False, single_word=False, normalized=True, special=False),\n",
       "\t50289: AddedToken(\"\t\t\t\t\t\t\t\", rstrip=False, lstrip=False, single_word=False, normalized=True, special=False),\n",
       "\t50290: AddedToken(\"\t\t\t\t\t\t\", rstrip=False, lstrip=False, single_word=False, normalized=True, special=False),\n",
       "\t50291: AddedToken(\"\t\t\t\t\t\", rstrip=False, lstrip=False, single_word=False, normalized=True, special=False),\n",
       "\t50292: AddedToken(\"\t\t\t\t\", rstrip=False, lstrip=False, single_word=False, normalized=True, special=False),\n",
       "\t50293: AddedToken(\"\t\t\t\", rstrip=False, lstrip=False, single_word=False, normalized=True, special=False),\n",
       "\t50294: AddedToken(\"\t\t\", rstrip=False, lstrip=False, single_word=False, normalized=True, special=False),\n",
       "}\n",
       ")"
      ]
     },
     "execution_count": 18,
     "metadata": {},
     "output_type": "execute_result"
    }
   ],
   "source": [
    "tokenizer"
   ]
  },
  {
   "cell_type": "code",
   "execution_count": 19,
   "id": "94dca488",
   "metadata": {},
   "outputs": [
    {
     "name": "stdout",
     "output_type": "stream",
     "text": [
      "{'input_ids': [50256, 198, 50276, 15056, 262, 1720, 6536, 11, 345, 761, 284, 7716, 257, 705, 15667, 6530, 4458, 198, 50276, 21017, 21743, 25, 1294, 2749, 2977, 198, 44386, 8721, 6530, 25, 6186, 45884, 8450, 5994, 12, 34, 284, 8450, 12, 32, 362, 13, 15, 12674, 12549, 14797, 278, 20249, 329, 406, 45007, 532, 513, 43391, 357, 15, 13, 24, 3395, 364, 828, 2619, 628, 50276, 50256, 50256, 50256, 50256, 50256, 50256, 50256, 50256, 50256, 50256, 50256, 50256, 50256, 50256, 50256, 50256, 50256, 50256, 50256, 50256, 50256, 50256, 50256, 50256, 50256, 50256, 50256, 50256, 50256, 50256, 50256, 50256, 50256, 50256, 50256, 50256, 50256, 50256, 50256, 50256, 50256, 50256, 50256, 50256, 50256, 50256, 50256, 50256, 50256, 50256, 50256, 50256, 50256, 50256, 50256, 50256, 50256, 50256, 50256, 50256, 50256, 50256, 50256, 50256, 50256, 50256, 50256, 50256, 50256, 50256, 50256, 50256, 50256, 50256, 50256, 50256, 50256, 50256, 50256, 50256, 50256, 50256, 50256, 50256, 50256, 50256, 50256, 50256, 50256, 50256, 50256, 50256, 50256, 50256, 50256, 50256, 50256, 50256, 50256, 50256, 50256, 50256, 50256, 50256, 50256, 50256, 50256, 50256, 50256, 50256, 50256, 50256, 50256, 50256, 50256, 50256, 50256, 50256, 50256, 50256, 50256, 50256, 50256, 50256, 50256, 50256, 50256, 50256, 50256, 50256, 50256, 50256, 50256, 50256, 50256, 50256, 50256, 50256, 50256, 50256, 50256, 50256, 50256, 50256, 50256, 50256, 50256, 50256, 50256, 50256, 50256, 50256, 50256, 50256, 50256, 50256, 50256, 50256, 50256, 50256, 50256, 50256, 50256, 50256, 50256, 50256, 50256, 50256, 50256, 50256, 50256, 50256, 50256, 50256, 50256, 50256, 50256, 50256, 50256, 50256, 50256, 50256, 50256, 50256, 50256, 50256, 50256, 50256, 50256, 50256, 50256, 50256, 50256, 50256, 50256, 50256, 50256, 50256, 50256, 50256, 50256, 50256, 50256, 50256, 50256, 50256, 50256, 50256, 50256, 50256, 50256, 50256, 50256, 50256, 50256, 50256, 50256, 50256, 50256, 50256, 50256, 50256, 50256, 50256, 50256, 50256, 50256, 50256, 50256, 50256, 50256, 50256, 50256, 50256, 50256, 50256, 50256, 50256, 50256, 50256, 50256, 50256, 50256, 50256, 50256, 50256, 50256, 50256, 50256, 50256, 50256, 50256, 50256, 50256, 50256, 50256, 50256, 50256, 50256, 50256, 50256, 50256, 50256, 50256, 50256, 50256, 50256, 50256, 50256, 50256, 50256, 50256, 50256, 50256, 50256, 50256, 50256, 50256, 50256, 50256, 50256, 50256, 50256, 50256, 50256, 50256, 50256, 50256, 50256, 50256, 50256, 50256, 50256, 50256, 50256, 50256, 50256, 50256, 50256, 50256, 50256, 50256, 50256, 50256, 50256, 50256, 50256, 50256, 50256, 50256, 50256, 50256, 50256, 50256, 50256, 50256, 50256, 50256, 50256, 50256, 50256, 50256, 50256, 50256, 50256, 50256, 50256, 50256, 50256, 50256, 50256, 50256, 50256, 50256, 50256, 50256, 50256, 50256, 50256, 50256, 50256, 50256, 50256, 50256, 50256, 50256, 50256, 50256, 50256, 50256, 50256, 50256, 50256, 50256, 50256, 50256, 50256, 50256, 50256, 50256, 50256, 50256, 50256, 50256, 50256, 50256, 50256, 50256, 50256, 50256, 50256, 50256, 50256, 50256, 50256, 50256, 50256, 50256, 50256, 50256, 50256, 50256, 50256, 50256, 50256, 50256, 50256, 50256, 50256, 50256, 50256, 50256, 50256, 50256, 50256, 50256, 50256, 50256, 50256, 50256, 50256, 50256, 50256, 50256, 50256, 50256, 50256, 50256, 50256, 50256, 50256, 50256, 50256, 50256, 50256, 50256, 50256, 50256, 50256, 50256, 50256, 50256, 50256, 50256, 50256, 50256, 50256, 50256, 50256, 50256, 50256, 50256, 50256, 50256, 50256, 50256], 'attention_mask': [1, 1, 1, 1, 1, 1, 1, 1, 1, 1, 1, 1, 1, 1, 1, 1, 1, 1, 1, 1, 1, 1, 1, 1, 1, 1, 1, 1, 1, 1, 1, 1, 1, 1, 1, 1, 1, 1, 1, 1, 1, 1, 1, 1, 1, 1, 1, 1, 1, 1, 1, 1, 1, 1, 1, 1, 1, 1, 1, 1, 1, 1, 1, 1, 0, 0, 0, 0, 0, 0, 0, 0, 0, 0, 0, 0, 0, 0, 0, 0, 0, 0, 0, 0, 0, 0, 0, 0, 0, 0, 0, 0, 0, 0, 0, 0, 0, 0, 0, 0, 0, 0, 0, 0, 0, 0, 0, 0, 0, 0, 0, 0, 0, 0, 0, 0, 0, 0, 0, 0, 0, 0, 0, 0, 0, 0, 0, 0, 0, 0, 0, 0, 0, 0, 0, 0, 0, 0, 0, 0, 0, 0, 0, 0, 0, 0, 0, 0, 0, 0, 0, 0, 0, 0, 0, 0, 0, 0, 0, 0, 0, 0, 0, 0, 0, 0, 0, 0, 0, 0, 0, 0, 0, 0, 0, 0, 0, 0, 0, 0, 0, 0, 0, 0, 0, 0, 0, 0, 0, 0, 0, 0, 0, 0, 0, 0, 0, 0, 0, 0, 0, 0, 0, 0, 0, 0, 0, 0, 0, 0, 0, 0, 0, 0, 0, 0, 0, 0, 0, 0, 0, 0, 0, 0, 0, 0, 0, 0, 0, 0, 0, 0, 0, 0, 0, 0, 0, 0, 0, 0, 0, 0, 0, 0, 0, 0, 0, 0, 0, 0, 0, 0, 0, 0, 0, 0, 0, 0, 0, 0, 0, 0, 0, 0, 0, 0, 0, 0, 0, 0, 0, 0, 0, 0, 0, 0, 0, 0, 0, 0, 0, 0, 0, 0, 0, 0, 0, 0, 0, 0, 0, 0, 0, 0, 0, 0, 0, 0, 0, 0, 0, 0, 0, 0, 0, 0, 0, 0, 0, 0, 0, 0, 0, 0, 0, 0, 0, 0, 0, 0, 0, 0, 0, 0, 0, 0, 0, 0, 0, 0, 0, 0, 0, 0, 0, 0, 0, 0, 0, 0, 0, 0, 0, 0, 0, 0, 0, 0, 0, 0, 0, 0, 0, 0, 0, 0, 0, 0, 0, 0, 0, 0, 0, 0, 0, 0, 0, 0, 0, 0, 0, 0, 0, 0, 0, 0, 0, 0, 0, 0, 0, 0, 0, 0, 0, 0, 0, 0, 0, 0, 0, 0, 0, 0, 0, 0, 0, 0, 0, 0, 0, 0, 0, 0, 0, 0, 0, 0, 0, 0, 0, 0, 0, 0, 0, 0, 0, 0, 0, 0, 0, 0, 0, 0, 0, 0, 0, 0, 0, 0, 0, 0, 0, 0, 0, 0, 0, 0, 0, 0, 0, 0, 0, 0, 0, 0, 0, 0, 0, 0, 0, 0, 0, 0, 0, 0, 0, 0, 0, 0, 0, 0, 0, 0, 0, 0, 0, 0, 0, 0, 0, 0, 0, 0, 0, 0, 0, 0, 0, 0, 0, 0, 0, 0, 0, 0, 0, 0, 0, 0, 0, 0, 0, 0, 0, 0, 0, 0, 0, 0], 'labels': [50256, 198, 50276, 15056, 262, 1720, 6536, 11, 345, 761, 284, 7716, 257, 705, 15667, 6530, 4458, 198, 50276, 21017, 21743, 25, 1294, 2749, 2977, 198, 44386, 8721, 6530, 25, 6186, 45884, 8450, 5994, 12, 34, 284, 8450, 12, 32, 362, 13, 15, 12674, 12549, 14797, 278, 20249, 329, 406, 45007, 532, 513, 43391, 357, 15, 13, 24, 3395, 364, 828, 2619, 628, 50276, 50256, 50256, 50256, 50256, 50256, 50256, 50256, 50256, 50256, 50256, 50256, 50256, 50256, 50256, 50256, 50256, 50256, 50256, 50256, 50256, 50256, 50256, 50256, 50256, 50256, 50256, 50256, 50256, 50256, 50256, 50256, 50256, 50256, 50256, 50256, 50256, 50256, 50256, 50256, 50256, 50256, 50256, 50256, 50256, 50256, 50256, 50256, 50256, 50256, 50256, 50256, 50256, 50256, 50256, 50256, 50256, 50256, 50256, 50256, 50256, 50256, 50256, 50256, 50256, 50256, 50256, 50256, 50256, 50256, 50256, 50256, 50256, 50256, 50256, 50256, 50256, 50256, 50256, 50256, 50256, 50256, 50256, 50256, 50256, 50256, 50256, 50256, 50256, 50256, 50256, 50256, 50256, 50256, 50256, 50256, 50256, 50256, 50256, 50256, 50256, 50256, 50256, 50256, 50256, 50256, 50256, 50256, 50256, 50256, 50256, 50256, 50256, 50256, 50256, 50256, 50256, 50256, 50256, 50256, 50256, 50256, 50256, 50256, 50256, 50256, 50256, 50256, 50256, 50256, 50256, 50256, 50256, 50256, 50256, 50256, 50256, 50256, 50256, 50256, 50256, 50256, 50256, 50256, 50256, 50256, 50256, 50256, 50256, 50256, 50256, 50256, 50256, 50256, 50256, 50256, 50256, 50256, 50256, 50256, 50256, 50256, 50256, 50256, 50256, 50256, 50256, 50256, 50256, 50256, 50256, 50256, 50256, 50256, 50256, 50256, 50256, 50256, 50256, 50256, 50256, 50256, 50256, 50256, 50256, 50256, 50256, 50256, 50256, 50256, 50256, 50256, 50256, 50256, 50256, 50256, 50256, 50256, 50256, 50256, 50256, 50256, 50256, 50256, 50256, 50256, 50256, 50256, 50256, 50256, 50256, 50256, 50256, 50256, 50256, 50256, 50256, 50256, 50256, 50256, 50256, 50256, 50256, 50256, 50256, 50256, 50256, 50256, 50256, 50256, 50256, 50256, 50256, 50256, 50256, 50256, 50256, 50256, 50256, 50256, 50256, 50256, 50256, 50256, 50256, 50256, 50256, 50256, 50256, 50256, 50256, 50256, 50256, 50256, 50256, 50256, 50256, 50256, 50256, 50256, 50256, 50256, 50256, 50256, 50256, 50256, 50256, 50256, 50256, 50256, 50256, 50256, 50256, 50256, 50256, 50256, 50256, 50256, 50256, 50256, 50256, 50256, 50256, 50256, 50256, 50256, 50256, 50256, 50256, 50256, 50256, 50256, 50256, 50256, 50256, 50256, 50256, 50256, 50256, 50256, 50256, 50256, 50256, 50256, 50256, 50256, 50256, 50256, 50256, 50256, 50256, 50256, 50256, 50256, 50256, 50256, 50256, 50256, 50256, 50256, 50256, 50256, 50256, 50256, 50256, 50256, 50256, 50256, 50256, 50256, 50256, 50256, 50256, 50256, 50256, 50256, 50256, 50256, 50256, 50256, 50256, 50256, 50256, 50256, 50256, 50256, 50256, 50256, 50256, 50256, 50256, 50256, 50256, 50256, 50256, 50256, 50256, 50256, 50256, 50256, 50256, 50256, 50256, 50256, 50256, 50256, 50256, 50256, 50256, 50256, 50256, 50256, 50256, 50256, 50256, 50256, 50256, 50256, 50256, 50256, 50256, 50256, 50256, 50256, 50256, 50256, 50256, 50256, 50256, 50256, 50256, 50256, 50256, 50256, 50256, 50256, 50256, 50256, 50256, 50256, 50256, 50256, 50256, 50256, 50256, 50256, 50256, 50256, 50256, 50256, 50256, 50256, 50256, 50256, 50256, 50256, 50256, 50256, 50256, 50256, 50256, 50256, 50256, 50256, 50256, 50256, 50256, 50256, 50256, 50256, 50256, 50256, 50256, 50256, 50256, 50256, 50256]}\n"
     ]
    }
   ],
   "source": [
    "print(tokenize(dataset['train'][0]))"
   ]
  },
  {
   "cell_type": "code",
   "execution_count": 20,
   "id": "2491368a",
   "metadata": {},
   "outputs": [
    {
     "name": "stderr",
     "output_type": "stream",
     "text": [
      "Map: 100%|██████████| 2637/2637 [00:04<00:00, 619.28 examples/s]\n",
      "Map: 100%|██████████| 293/293 [00:00<00:00, 501.14 examples/s]\n"
     ]
    }
   ],
   "source": [
    "dataset = dataset.map(tokenize)"
   ]
  },
  {
   "cell_type": "markdown",
   "id": "d66b45ce",
   "metadata": {},
   "source": [
    "### LoRA Config"
   ]
  },
  {
   "cell_type": "code",
   "execution_count": 21,
   "id": "a6e79235",
   "metadata": {},
   "outputs": [],
   "source": [
    "from peft import LoraConfig, get_peft_model\n",
    "\n",
    "target_modules = [\"Wqkv\", \"fc1\", \"fc2\"]\n",
    "\n",
    "config = LoraConfig(\n",
    "    r=32,\n",
    "    lora_alpha=64,\n",
    "    target_modules = target_modules,\n",
    "    bias = \"none\",\n",
    "    lora_dropout=0.05,\n",
    "    task_type=\"CAUSAL_LM\"\n",
    ")\n",
    "\n",
    "model = get_peft_model(model, config)"
   ]
  },
  {
   "cell_type": "code",
   "execution_count": 22,
   "id": "d83709a0",
   "metadata": {},
   "outputs": [
    {
     "data": {
      "text/plain": [
       "PeftModelForCausalLM(\n",
       "  (base_model): LoraModel(\n",
       "    (model): PhiForCausalLM(\n",
       "      (model): PhiModel(\n",
       "        (embed_tokens): Embedding(51200, 2560)\n",
       "        (layers): ModuleList(\n",
       "          (0-31): 32 x PhiDecoderLayer(\n",
       "            (self_attn): PhiAttention(\n",
       "              (q_proj): Linear4bit(in_features=2560, out_features=2560, bias=True)\n",
       "              (k_proj): Linear4bit(in_features=2560, out_features=2560, bias=True)\n",
       "              (v_proj): Linear4bit(in_features=2560, out_features=2560, bias=True)\n",
       "              (dense): Linear4bit(in_features=2560, out_features=2560, bias=True)\n",
       "            )\n",
       "            (mlp): PhiMLP(\n",
       "              (activation_fn): NewGELUActivation()\n",
       "              (fc1): lora.Linear4bit(\n",
       "                (base_layer): Linear4bit(in_features=2560, out_features=10240, bias=True)\n",
       "                (lora_dropout): ModuleDict(\n",
       "                  (default): Dropout(p=0.05, inplace=False)\n",
       "                )\n",
       "                (lora_A): ModuleDict(\n",
       "                  (default): Linear(in_features=2560, out_features=32, bias=False)\n",
       "                )\n",
       "                (lora_B): ModuleDict(\n",
       "                  (default): Linear(in_features=32, out_features=10240, bias=False)\n",
       "                )\n",
       "                (lora_embedding_A): ParameterDict()\n",
       "                (lora_embedding_B): ParameterDict()\n",
       "                (lora_magnitude_vector): ModuleDict()\n",
       "              )\n",
       "              (fc2): lora.Linear4bit(\n",
       "                (base_layer): Linear4bit(in_features=10240, out_features=2560, bias=True)\n",
       "                (lora_dropout): ModuleDict(\n",
       "                  (default): Dropout(p=0.05, inplace=False)\n",
       "                )\n",
       "                (lora_A): ModuleDict(\n",
       "                  (default): Linear(in_features=10240, out_features=32, bias=False)\n",
       "                )\n",
       "                (lora_B): ModuleDict(\n",
       "                  (default): Linear(in_features=32, out_features=2560, bias=False)\n",
       "                )\n",
       "                (lora_embedding_A): ParameterDict()\n",
       "                (lora_embedding_B): ParameterDict()\n",
       "                (lora_magnitude_vector): ModuleDict()\n",
       "              )\n",
       "            )\n",
       "            (input_layernorm): LayerNorm((2560,), eps=1e-05, elementwise_affine=True)\n",
       "            (resid_dropout): Dropout(p=0.1, inplace=False)\n",
       "          )\n",
       "        )\n",
       "        (rotary_emb): PhiRotaryEmbedding()\n",
       "        (embed_dropout): Dropout(p=0.0, inplace=False)\n",
       "        (final_layernorm): LayerNorm((2560,), eps=1e-05, elementwise_affine=True)\n",
       "      )\n",
       "      (lm_head): Linear(in_features=2560, out_features=51200, bias=True)\n",
       "    )\n",
       "  )\n",
       ")"
      ]
     },
     "execution_count": 22,
     "metadata": {},
     "output_type": "execute_result"
    }
   ],
   "source": [
    "model"
   ]
  },
  {
   "cell_type": "markdown",
   "id": "b0f20ce2",
   "metadata": {},
   "source": [
    "### `No of trainable parameters`"
   ]
  },
  {
   "cell_type": "code",
   "execution_count": 23,
   "id": "60d63971",
   "metadata": {},
   "outputs": [],
   "source": [
    "def print_trainable_parameters(model):\n",
    "    \"\"\"\n",
    "    Prints the number of trainable parameters in the model.\n",
    "    \"\"\"\n",
    "    trainable_params = 0\n",
    "    all_param = 0\n",
    "    for _, param in model.named_parameters():\n",
    "        all_param += param.numel()\n",
    "        if param.requires_grad:\n",
    "            trainable_params += param.numel()\n",
    "    print(\n",
    "        f\"trainable params: {trainable_params} || all params: {all_param} || trainable%: {100 * trainable_params / all_param}\"\n",
    "    )"
   ]
  },
  {
   "cell_type": "code",
   "execution_count": 24,
   "id": "4d41b6ba",
   "metadata": {},
   "outputs": [
    {
     "name": "stdout",
     "output_type": "stream",
     "text": [
      "trainable params: 26214400 || all params: 1547607040 || trainable%: 1.6938666807822222\n"
     ]
    }
   ],
   "source": [
    "print_trainable_parameters(model)"
   ]
  },
  {
   "cell_type": "code",
   "execution_count": 25,
   "id": "0f0b6685",
   "metadata": {},
   "outputs": [],
   "source": [
    "from accelerate import Accelerator\n",
    "\n",
    "accelerator = Accelerator(gradient_accumulation_steps=1)\n",
    "\n",
    "model = accelerator.prepare_model(model)\n"
   ]
  },
  {
   "cell_type": "code",
   "execution_count": null,
   "id": "81c229a4",
   "metadata": {},
   "outputs": [
    {
     "ename": "",
     "evalue": "",
     "output_type": "error",
     "traceback": [
      "\u001b[1;31mThe Kernel crashed while executing code in the current cell or a previous cell. \n",
      "\u001b[1;31mPlease review the code in the cell(s) to identify a possible cause of the failure. \n",
      "\u001b[1;31mClick <a href='https://aka.ms/vscodeJupyterKernelCrash'>here</a> for more info. \n",
      "\u001b[1;31mView Jupyter <a href='command:jupyter.viewOutput'>log</a> for further details."
     ]
    }
   ],
   "source": [
    "# Trainer, Training Arguments, DataCollator\n",
    "\n",
    "from transformers import TrainingArguments, Trainer, DataCollatorForLanguageModeling\n",
    "from datetime import datetime\n",
    "\n",
    "project = \"phi2-finetune\"\n",
    "run_name = 'train-dir'\n",
    "output_dir = \"./\" + run_name\n",
    "\n",
    "args=TrainingArguments(\n",
    "        output_dir=output_dir,\n",
    "        per_device_train_batch_size=2,\n",
    "        gradient_accumulation_steps=1,\n",
    "        max_steps=10,\n",
    "        learning_rate=2.5e-5, # Want a small lr for finetuning\n",
    "        optim=\"paged_adamw_8bit\",\n",
    "        logging_steps=5,              # When to start reporting loss\n",
    "        logging_dir=\"./logs\",        # Directory for storing logs\n",
    "        save_strategy=\"steps\",       # Save the model checkpoint every logging step\n",
    "        save_steps=5,                # Save checkpoints every 25 steps\n",
    "        eval_strategy=\"steps\", # Evaluate the model every logging step\n",
    "        eval_steps=5,               # Evaluate and save checkpoints every 25 steps\n",
    "        do_eval=True,                # Perform evaluation at the end of training\n",
    "    )"
   ]
  },
  {
   "cell_type": "code",
   "execution_count": null,
   "id": "e2217b57",
   "metadata": {},
   "outputs": [
    {
     "name": "stderr",
     "output_type": "stream",
     "text": [
      "No label_names provided for model class `PeftModelForCausalLM`. Since `PeftModel` hides base models input arguments, if label_names is not given, label_names can't be set automatically within `Trainer`. Note that empty label_names list will be used instead.\n"
     ]
    }
   ],
   "source": [
    "trainer = Trainer(\n",
    "    model=model,\n",
    "    args = args,\n",
    "    train_dataset=dataset['train'],\n",
    "    eval_dataset=dataset['test'],\n",
    "    data_collator=DataCollatorForLanguageModeling(tokenizer, mlm=False),\n",
    ")\n",
    "\n",
    "model.config.use_cache = False  \n",
    "trainer.train().to(\"cuda\")"
   ]
  },
  {
   "cell_type": "code",
   "execution_count": null,
   "id": "9a3309c4",
   "metadata": {},
   "outputs": [
    {
     "ename": "NameError",
     "evalue": "name 'AutoModelForCausalLM' is not defined",
     "output_type": "error",
     "traceback": [
      "\u001b[1;31m---------------------------------------------------------------------------\u001b[0m",
      "\u001b[1;31mNameError\u001b[0m                                 Traceback (most recent call last)",
      "Cell \u001b[1;32mIn[1], line 1\u001b[0m\n\u001b[1;32m----> 1\u001b[0m base_model \u001b[38;5;241m=\u001b[39m \u001b[43mAutoModelForCausalLM\u001b[49m\u001b[38;5;241m.\u001b[39mfrom_pretrained(\n\u001b[0;32m      2\u001b[0m     base_model_id,\n\u001b[0;32m      3\u001b[0m     trust_remote_code\u001b[38;5;241m=\u001b[39m\u001b[38;5;28;01mTrue\u001b[39;00m,\n\u001b[0;32m      4\u001b[0m     load_in_8bit\u001b[38;5;241m=\u001b[39m\u001b[38;5;28;01mTrue\u001b[39;00m,\n\u001b[0;32m      5\u001b[0m     torch_dtype\u001b[38;5;241m=\u001b[39mtorch\u001b[38;5;241m.\u001b[39mfloat16\n\u001b[0;32m      6\u001b[0m )\n\u001b[0;32m      8\u001b[0m eval_tokenizer \u001b[38;5;241m=\u001b[39m AutoTokenizer\u001b[38;5;241m.\u001b[39mfrom_pretrained(\n\u001b[0;32m      9\u001b[0m     base_model_id,\n\u001b[0;32m     10\u001b[0m     add_bos_token\u001b[38;5;241m=\u001b[39m\u001b[38;5;28;01mTrue\u001b[39;00m,\n\u001b[0;32m     11\u001b[0m     trust_remote_code\u001b[38;5;241m=\u001b[39m\u001b[38;5;28;01mTrue\u001b[39;00m,\n\u001b[0;32m     12\u001b[0m     use_fast\u001b[38;5;241m=\u001b[39m\u001b[38;5;28;01mFalse\u001b[39;00m\n\u001b[0;32m     13\u001b[0m )\n\u001b[0;32m     14\u001b[0m eval_tokenizer\u001b[38;5;241m.\u001b[39mpad_token \u001b[38;5;241m=\u001b[39m eval_tokenizer\u001b[38;5;241m.\u001b[39meos_token\n",
      "\u001b[1;31mNameError\u001b[0m: name 'AutoModelForCausalLM' is not defined"
     ]
    }
   ],
   "source": [
    "base_model = AutoModelForCausalLM.from_pretrained(\n",
    "    base_model_id,\n",
    "    trust_remote_code=True,\n",
    "    load_in_8bit=True,\n",
    "    torch_dtype=torch.float16\n",
    ")\n",
    "\n",
    "eval_tokenizer = AutoTokenizer.from_pretrained(\n",
    "    base_model_id,\n",
    "    add_bos_token=True,\n",
    "    trust_remote_code=True,\n",
    "    use_fast=False\n",
    ")\n",
    "eval_tokenizer.pad_token = eval_tokenizer.eos_token"
   ]
  },
  {
   "cell_type": "code",
   "execution_count": null,
   "id": "a9a35cb2",
   "metadata": {},
   "outputs": [],
   "source": [
    "from peft import PeftModel\n",
    "\n",
    "ft_model = PeftModel.from_pretrained(base_model, '/train-dir/checkpoint-500')"
   ]
  },
  {
   "cell_type": "code",
   "execution_count": null,
   "id": "03e9f00d",
   "metadata": {},
   "outputs": [],
   "source": [
    "eval_prompt = \"\"\"\n",
    "Given the product category, you need to generate a 'Product Description'.\n",
    "### Category: BatteryChargers\n",
    "### Product Description:\n",
    "\"\"\"\n",
    "\n",
    "model_input = eval_tokenizer(eval_prompt, return_tensors=\"pt\")\n",
    "\n",
    "ft_model.eval()\n",
    "with torch.no_grad():\n",
    "  output = ft_model.generate(**model_input, max_new_tokens=256,\n",
    "                                           repetition_penalty=1.15)\n",
    "  result = eval_tokenizer.decode(output[0], skip_special_tokens=True)\n",
    "\n",
    "  print(result)"
   ]
  }
 ],
 "metadata": {
  "kernelspec": {
   "display_name": "my_chatbot",
   "language": "python",
   "name": "python3"
  },
  "language_info": {
   "codemirror_mode": {
    "name": "ipython",
    "version": 3
   },
   "file_extension": ".py",
   "mimetype": "text/x-python",
   "name": "python",
   "nbconvert_exporter": "python",
   "pygments_lexer": "ipython3",
   "version": "3.10.18"
  }
 },
 "nbformat": 4,
 "nbformat_minor": 5
}
